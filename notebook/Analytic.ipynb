{
 "cells": [
  {
   "cell_type": "markdown",
   "id": "3cc6ff6e",
   "metadata": {},
   "source": [
    "# Analytic Hafalan Tahun 2025"
   ]
  },
  {
   "cell_type": "markdown",
   "id": "bf97d232",
   "metadata": {},
   "source": [
    "## 1. Business Understanding"
   ]
  },
  {
   "cell_type": "markdown",
   "id": "55a48a59",
   "metadata": {},
   "source": [
    "### Tujuan"
   ]
  },
  {
   "cell_type": "markdown",
   "id": "29bedb8f",
   "metadata": {},
   "source": [
    "Menyajikan visualisasi hafalan dari mahasiswa"
   ]
  },
  {
   "cell_type": "markdown",
   "id": "fcfa7aa6",
   "metadata": {},
   "source": [
    "### Pertanyaan "
   ]
  },
  {
   "cell_type": "markdown",
   "id": "7e9b3796",
   "metadata": {},
   "source": [
    "1. Bagaimana perbandingan antar program studi?\n",
    "2. Bagaimana distribusi berdasarkan jenis kelamin?\n",
    "3. Bagaimana jumlah juz yang dihafal mahasiswa tersebar per fakultas/prodi/kelamin\n",
    "\n"
   ]
  },
  {
   "cell_type": "markdown",
   "id": "531b069b",
   "metadata": {},
   "source": [
    "### Indikator Utama"
   ]
  },
  {
   "cell_type": "markdown",
   "id": "8cc7c0b6",
   "metadata": {},
   "source": [
    "- Fakultas\n",
    "- Prodi\n",
    "- Kelamin\n",
    "- Jumlah juz yang dihafal"
   ]
  },
  {
   "cell_type": "markdown",
   "id": "fb2be32a",
   "metadata": {},
   "source": [
    "## 2. Data Understanding"
   ]
  },
  {
   "cell_type": "markdown",
   "id": "f96b2d4f",
   "metadata": {},
   "source": [
    "- NIM : Nomor identitas dari mahasiswa\n",
    "- Nama : Nama mahasiswa\n",
    "- Jenis Kelamin : Jenis Kelamin dari mahasiswa\n",
    "- Hafalan : Berapa banyak hafalan dari mahasiswa"
   ]
  },
  {
   "cell_type": "code",
   "execution_count": 1,
   "id": "bf7a5fb8",
   "metadata": {},
   "outputs": [],
   "source": [
    "import pandas as pd\n",
    "import plotly.express as px"
   ]
  },
  {
   "cell_type": "code",
   "execution_count": 2,
   "id": "246f8a3f",
   "metadata": {},
   "outputs": [
    {
     "name": "stdout",
     "output_type": "stream",
     "text": [
      "Sheet tersedia : ['Mentee Spesial 5-10 Juz', 'Mentee Spesial 11-20 Juz', 'Mentee Spesial 21-30 Juz']\n"
     ]
    }
   ],
   "source": [
    "file_path = \"../dataset/Kategori_Hafalan_2025.xlsx\"\n",
    "xls = pd.ExcelFile(file_path, engine=\"openpyxl\")\n",
    "print(\"Sheet tersedia :\", xls.sheet_names)"
   ]
  },
  {
   "cell_type": "code",
   "execution_count": 3,
   "id": "e4294355",
   "metadata": {},
   "outputs": [
    {
     "name": "stdout",
     "output_type": "stream",
     "text": [
      "Jumlah data: 308\n"
     ]
    }
   ],
   "source": [
    "all_data = []\n",
    "for sheet in xls.sheet_names:\n",
    "    df = pd.read_excel(xls, sheet_name=sheet)\n",
    "    all_data.append(df)\n",
    "\n",
    "df_all = pd.concat(all_data, ignore_index=True)\n",
    "\n",
    "print(\"Jumlah data:\", len(df_all))"
   ]
  },
  {
   "cell_type": "code",
   "execution_count": 4,
   "id": "d6a429bf",
   "metadata": {},
   "outputs": [
    {
     "data": {
      "application/vnd.microsoft.datawrangler.viewer.v0+json": {
       "columns": [
        {
         "name": "index",
         "rawType": "int64",
         "type": "integer"
        },
        {
         "name": "NIM",
         "rawType": "object",
         "type": "string"
        },
        {
         "name": "Nama",
         "rawType": "object",
         "type": "string"
        },
        {
         "name": "Keterangan",
         "rawType": "object",
         "type": "string"
        },
        {
         "name": "Hafalan",
         "rawType": "object",
         "type": "string"
        }
       ],
       "ref": "62873f08-d5fd-4f6d-bb43-9ef0db823fcf",
       "rows": [
        [
         "0",
         "A210250004",
         "NISRINA HASNA MUFIDAH",
         "Akhwat",
         "9 juz"
        ],
        [
         "1",
         "A210250029",
         "ANISA FITRI RAHMADANI",
         "Akhwat",
         "Ziyadah 5 Juz"
        ],
        [
         "2",
         "A310250010",
         "ALYA PUTRI NAFISAH",
         "Akhwat",
         "6 Juz"
        ],
        [
         "3",
         "A310250011",
         "NELSHA AZALIA ILAFFI",
         "Akhwat",
         "6 Juz"
        ],
        [
         "4",
         "A410250016",
         "DIAN FADILA HESRINDRA",
         "Akhwat",
         "8 Juz"
        ]
       ],
       "shape": {
        "columns": 4,
        "rows": 5
       }
      },
      "text/html": [
       "<div>\n",
       "<style scoped>\n",
       "    .dataframe tbody tr th:only-of-type {\n",
       "        vertical-align: middle;\n",
       "    }\n",
       "\n",
       "    .dataframe tbody tr th {\n",
       "        vertical-align: top;\n",
       "    }\n",
       "\n",
       "    .dataframe thead th {\n",
       "        text-align: right;\n",
       "    }\n",
       "</style>\n",
       "<table border=\"1\" class=\"dataframe\">\n",
       "  <thead>\n",
       "    <tr style=\"text-align: right;\">\n",
       "      <th></th>\n",
       "      <th>NIM</th>\n",
       "      <th>Nama</th>\n",
       "      <th>Keterangan</th>\n",
       "      <th>Hafalan</th>\n",
       "    </tr>\n",
       "  </thead>\n",
       "  <tbody>\n",
       "    <tr>\n",
       "      <th>0</th>\n",
       "      <td>A210250004</td>\n",
       "      <td>NISRINA HASNA MUFIDAH</td>\n",
       "      <td>Akhwat</td>\n",
       "      <td>9 juz</td>\n",
       "    </tr>\n",
       "    <tr>\n",
       "      <th>1</th>\n",
       "      <td>A210250029</td>\n",
       "      <td>ANISA FITRI RAHMADANI</td>\n",
       "      <td>Akhwat</td>\n",
       "      <td>Ziyadah 5 Juz</td>\n",
       "    </tr>\n",
       "    <tr>\n",
       "      <th>2</th>\n",
       "      <td>A310250010</td>\n",
       "      <td>ALYA PUTRI NAFISAH</td>\n",
       "      <td>Akhwat</td>\n",
       "      <td>6 Juz</td>\n",
       "    </tr>\n",
       "    <tr>\n",
       "      <th>3</th>\n",
       "      <td>A310250011</td>\n",
       "      <td>NELSHA AZALIA ILAFFI</td>\n",
       "      <td>Akhwat</td>\n",
       "      <td>6 Juz</td>\n",
       "    </tr>\n",
       "    <tr>\n",
       "      <th>4</th>\n",
       "      <td>A410250016</td>\n",
       "      <td>DIAN FADILA HESRINDRA</td>\n",
       "      <td>Akhwat</td>\n",
       "      <td>8 Juz</td>\n",
       "    </tr>\n",
       "  </tbody>\n",
       "</table>\n",
       "</div>"
      ],
      "text/plain": [
       "          NIM                   Nama Keterangan        Hafalan\n",
       "0  A210250004  NISRINA HASNA MUFIDAH     Akhwat          9 juz\n",
       "1  A210250029  ANISA FITRI RAHMADANI     Akhwat  Ziyadah 5 Juz\n",
       "2  A310250010     ALYA PUTRI NAFISAH     Akhwat          6 Juz\n",
       "3  A310250011   NELSHA AZALIA ILAFFI     Akhwat          6 Juz\n",
       "4  A410250016  DIAN FADILA HESRINDRA     Akhwat          8 Juz"
      ]
     },
     "execution_count": 4,
     "metadata": {},
     "output_type": "execute_result"
    }
   ],
   "source": [
    "df = df_all[[\"NIM\", \"Nama\", \"Keterangan\", \"Hafalan\"]].copy()\n",
    "df.head()"
   ]
  },
  {
   "cell_type": "code",
   "execution_count": 5,
   "id": "4ebed4bb",
   "metadata": {},
   "outputs": [
    {
     "data": {
      "application/vnd.microsoft.datawrangler.viewer.v0+json": {
       "columns": [
        {
         "name": "index",
         "rawType": "object",
         "type": "string"
        },
        {
         "name": "0",
         "rawType": "int64",
         "type": "integer"
        }
       ],
       "ref": "f4b282e8-8bcb-4a38-adb9-bd155fe1371b",
       "rows": [
        [
         "NIM",
         "0"
        ],
        [
         "Nama",
         "0"
        ],
        [
         "Keterangan",
         "0"
        ],
        [
         "Hafalan",
         "0"
        ]
       ],
       "shape": {
        "columns": 1,
        "rows": 4
       }
      },
      "text/plain": [
       "NIM           0\n",
       "Nama          0\n",
       "Keterangan    0\n",
       "Hafalan       0\n",
       "dtype: int64"
      ]
     },
     "execution_count": 5,
     "metadata": {},
     "output_type": "execute_result"
    }
   ],
   "source": [
    "df.isna().sum()"
   ]
  },
  {
   "cell_type": "code",
   "execution_count": 6,
   "id": "5d4fad9f",
   "metadata": {},
   "outputs": [
    {
     "data": {
      "text/plain": [
       "np.int64(2)"
      ]
     },
     "execution_count": 6,
     "metadata": {},
     "output_type": "execute_result"
    }
   ],
   "source": [
    "df.duplicated().sum()"
   ]
  },
  {
   "cell_type": "markdown",
   "id": "4b0a52d8",
   "metadata": {},
   "source": [
    "## 3. Data Preparation"
   ]
  },
  {
   "cell_type": "code",
   "execution_count": 7,
   "id": "a103817b",
   "metadata": {},
   "outputs": [],
   "source": [
    "df = df.drop_duplicates()"
   ]
  },
  {
   "cell_type": "code",
   "execution_count": 8,
   "id": "64f6a46b",
   "metadata": {},
   "outputs": [],
   "source": [
    "df['Nama'] = df['Nama'].str.title()\n",
    "df['Keterangan'] = df['Keterangan'].str.title()\n",
    "df['Keterangan'] = df['Keterangan'].str.strip()\n",
    "df['Hafalan'] = df['Hafalan'].str.title()"
   ]
  },
  {
   "cell_type": "code",
   "execution_count": 9,
   "id": "20aa1343",
   "metadata": {},
   "outputs": [],
   "source": [
    "df.loc[df['Nama'] == \"Sabrina Zahra Rahadyana\", \"NIM\"] = \"F100250033\"\n",
    "df.loc[df['Nama'] == \"Anisa Fitri Rahmadani\", \"Hafalan\"] = \"5 Juz\""
   ]
  },
  {
   "cell_type": "code",
   "execution_count": 10,
   "id": "d81995b0",
   "metadata": {},
   "outputs": [],
   "source": [
    "df['Hafalan'] = df['Hafalan'].astype(str).str.replace(\"Juz\",\"\",case=False).str.strip().astype(int)"
   ]
  },
  {
   "cell_type": "code",
   "execution_count": 11,
   "id": "df489305",
   "metadata": {},
   "outputs": [],
   "source": [
    "nim_prodi = {\n",
    "    'A2' : 'Pendidikan Akuntansi',\n",
    "    'A31' : 'Pendidikan Bahasa dan Sastra Indonesia',\n",
    "    'A32' : 'Pendidikan Bahasa Inggris',\n",
    "    'A41' : 'Pendidikan Matematika',\n",
    "    'A42' : 'Pendidikan Biologi',\n",
    "    'A51' : 'Pendidikan Guru Sekolah Dasar',\n",
    "    'A71' : 'Pendidikan Teknik Informatika',\n",
    "    'A81' : 'Pendidikan Jasmani',\n",
    "    'B1' : 'Manajemen',\n",
    "    'B2' : 'Akuntansi',\n",
    "    'B3' : 'Ekonomi Pembangunan',\n",
    "    'B4' : 'Bisnis Digital',\n",
    "    'C1' : 'Ilmu Hukum',\n",
    "    'C2' : 'Hubungan Internasional',\n",
    "    'D1' : 'Teknik Sipil',\n",
    "    'D2' : 'Teknik Mesin',\n",
    "    'D3' : 'Arsitektur',\n",
    "    'D4' : 'Teknik Elektro',\n",
    "    'D6' : 'Teknik Industri',\n",
    "    'E2' : 'Sains Informasi Geografi',\n",
    "    'F1' : 'Psikologi',\n",
    "    'G0' : 'Pendidikan Agama Islam',\n",
    "    'G1' : 'Ilmu Al Quran dan Tafsir',\n",
    "    'I0' : 'Hukum Ekonomi Syari`ah',\n",
    "    'J1' : 'Fisioterapi',\n",
    "    'J2' : 'Ilmu Keperawatan',\n",
    "    'J3' : 'Ilmu Gizi',\n",
    "    'J4' : 'Kesehatan Masyarakat',\n",
    "    'J52' : 'Pendidikan Dokter Gigi',\n",
    "    'J5' : 'Kedokteran',\n",
    "    'K1' : 'Farmasi',\n",
    "    'L1' : 'Ilmu Komunikasi',\n",
    "    'L2' : 'Teknik Informatika',\n",
    "    'L3' : 'Sistem Informasi',\n",
    "}\n",
    "nim_fakultas = {\n",
    "    'I0' : 'Fakultas Agama Islam',\n",
    "    'G0' : 'Fakultas Agama Islam',\n",
    "    'G1' : 'Fakultas Agama Islam',\n",
    "    'B1' : 'Fakultas Ekonomi & Bisnis', \n",
    "    'B2' : 'Fakultas Ekonomi & Bisnis',\n",
    "    'B3' : 'Fakultas Ekonomi & Bisnis',\n",
    "    'B4' : 'Fakultas Ekonomi & Bisnis',\n",
    "    'K1' : 'Fakultas Farmasi',\n",
    "    'E2' : 'Fakultas Geografi',\n",
    "    'C1' : 'Fakultas Hukum & Ilmu Politik',\n",
    "    'C2' : 'Fakultas Hukum & Ilmu Politik',\n",
    "    'J1' : 'Fakultas Ilmu Keperawatan',\n",
    "    'J2' : 'Fakultas Ilmu Keperawatan',\n",
    "    'J3' : 'Fakultas Ilmu Keperawatan',\n",
    "    'J4' : 'Fakultas Ilmu Keperawatan',\n",
    "    'J52' : 'Fakultas Kedokteran Gigi',\n",
    "    'J5' : 'Fakultas Kedokteran',\n",
    "    'A2' : 'Fakultas Keguruan & Ilmu Pendidikan', \n",
    "    'A31' : 'Fakultas Keguruan & Ilmu Pendidikan', \n",
    "    'A32' : 'Fakultas Keguruan & Ilmu Pendidikan', \n",
    "    'A41' : 'Fakultas Keguruan & Ilmu Pendidikan', \n",
    "    'A42' : 'Fakultas Keguruan & Ilmu Pendidikan', \n",
    "    'A51' : 'Fakultas Keguruan & Ilmu Pendidikan', \n",
    "    'A71' : 'Fakultas Keguruan & Ilmu Pendidikan', \n",
    "    'A81' : 'Fakultas Keguruan & Ilmu Pendidikan',\n",
    "    'L1' : 'Fakultas Komunikasi & Informatika',\n",
    "    'L2' : 'Fakultas Komunikasi & Informatika',\n",
    "    'L3' : 'Fakultas Komunikasi & Informatika',\n",
    "    'F1' : 'Fakultas Psikologi',\n",
    "    'D1' : 'Fakultas Teknik',\n",
    "    'D2' : 'Fakultas Teknik',\n",
    "    'D3' : 'Fakultas Teknik',\n",
    "    'D4' : 'Fakultas Teknik',\n",
    "    'D6' : 'Fakultas Teknik' ,\n",
    "}\n",
    "\n",
    "def find_prodi(nim):\n",
    "    nim = str(nim).strip()\n",
    "    for kode, prodi in nim_prodi.items():\n",
    "        if nim.startswith(kode):\n",
    "            return prodi\n",
    "        \n",
    "\n",
    "def find_fakultas(nim):\n",
    "    nim = str(nim).strip()\n",
    "    for kode, fakultas in nim_fakultas.items():\n",
    "        if nim.startswith(kode):\n",
    "            return fakultas\n",
    "        \n",
    "df['Fakultas'] = df['NIM'].apply(find_fakultas)\n",
    "df['Program Studi'] = df['NIM'].apply(find_prodi)\n",
    "organize = ['NIM', 'Nama', \"Keterangan\", \"Fakultas\", \"Program Studi\", \"Hafalan\"]\n",
    "df = df[organize]"
   ]
  },
  {
   "cell_type": "code",
   "execution_count": 12,
   "id": "6f3334cd",
   "metadata": {},
   "outputs": [
    {
     "data": {
      "application/vnd.microsoft.datawrangler.viewer.v0+json": {
       "columns": [
        {
         "name": "index",
         "rawType": "int64",
         "type": "integer"
        },
        {
         "name": "NIM",
         "rawType": "object",
         "type": "string"
        },
        {
         "name": "Nama",
         "rawType": "object",
         "type": "string"
        },
        {
         "name": "Keterangan",
         "rawType": "object",
         "type": "string"
        },
        {
         "name": "Fakultas",
         "rawType": "object",
         "type": "string"
        },
        {
         "name": "Program Studi",
         "rawType": "object",
         "type": "string"
        },
        {
         "name": "Hafalan",
         "rawType": "int64",
         "type": "integer"
        }
       ],
       "ref": "4d395268-bad9-40ec-8e65-41def23b3393",
       "rows": [
        [
         "0",
         "A210250004",
         "Nisrina Hasna Mufidah",
         "Akhwat",
         "Fakultas Keguruan & Ilmu Pendidikan",
         "Pendidikan Akuntansi",
         "9"
        ],
        [
         "1",
         "A210250029",
         "Anisa Fitri Rahmadani",
         "Akhwat",
         "Fakultas Keguruan & Ilmu Pendidikan",
         "Pendidikan Akuntansi",
         "5"
        ],
        [
         "2",
         "A310250010",
         "Alya Putri Nafisah",
         "Akhwat",
         "Fakultas Keguruan & Ilmu Pendidikan",
         "Pendidikan Bahasa dan Sastra Indonesia",
         "6"
        ],
        [
         "3",
         "A310250011",
         "Nelsha Azalia Ilaffi",
         "Akhwat",
         "Fakultas Keguruan & Ilmu Pendidikan",
         "Pendidikan Bahasa dan Sastra Indonesia",
         "6"
        ],
        [
         "4",
         "A410250016",
         "Dian Fadila Hesrindra",
         "Akhwat",
         "Fakultas Keguruan & Ilmu Pendidikan",
         "Pendidikan Matematika",
         "8"
        ]
       ],
       "shape": {
        "columns": 6,
        "rows": 5
       }
      },
      "text/html": [
       "<div>\n",
       "<style scoped>\n",
       "    .dataframe tbody tr th:only-of-type {\n",
       "        vertical-align: middle;\n",
       "    }\n",
       "\n",
       "    .dataframe tbody tr th {\n",
       "        vertical-align: top;\n",
       "    }\n",
       "\n",
       "    .dataframe thead th {\n",
       "        text-align: right;\n",
       "    }\n",
       "</style>\n",
       "<table border=\"1\" class=\"dataframe\">\n",
       "  <thead>\n",
       "    <tr style=\"text-align: right;\">\n",
       "      <th></th>\n",
       "      <th>NIM</th>\n",
       "      <th>Nama</th>\n",
       "      <th>Keterangan</th>\n",
       "      <th>Fakultas</th>\n",
       "      <th>Program Studi</th>\n",
       "      <th>Hafalan</th>\n",
       "    </tr>\n",
       "  </thead>\n",
       "  <tbody>\n",
       "    <tr>\n",
       "      <th>0</th>\n",
       "      <td>A210250004</td>\n",
       "      <td>Nisrina Hasna Mufidah</td>\n",
       "      <td>Akhwat</td>\n",
       "      <td>Fakultas Keguruan &amp; Ilmu Pendidikan</td>\n",
       "      <td>Pendidikan Akuntansi</td>\n",
       "      <td>9</td>\n",
       "    </tr>\n",
       "    <tr>\n",
       "      <th>1</th>\n",
       "      <td>A210250029</td>\n",
       "      <td>Anisa Fitri Rahmadani</td>\n",
       "      <td>Akhwat</td>\n",
       "      <td>Fakultas Keguruan &amp; Ilmu Pendidikan</td>\n",
       "      <td>Pendidikan Akuntansi</td>\n",
       "      <td>5</td>\n",
       "    </tr>\n",
       "    <tr>\n",
       "      <th>2</th>\n",
       "      <td>A310250010</td>\n",
       "      <td>Alya Putri Nafisah</td>\n",
       "      <td>Akhwat</td>\n",
       "      <td>Fakultas Keguruan &amp; Ilmu Pendidikan</td>\n",
       "      <td>Pendidikan Bahasa dan Sastra Indonesia</td>\n",
       "      <td>6</td>\n",
       "    </tr>\n",
       "    <tr>\n",
       "      <th>3</th>\n",
       "      <td>A310250011</td>\n",
       "      <td>Nelsha Azalia Ilaffi</td>\n",
       "      <td>Akhwat</td>\n",
       "      <td>Fakultas Keguruan &amp; Ilmu Pendidikan</td>\n",
       "      <td>Pendidikan Bahasa dan Sastra Indonesia</td>\n",
       "      <td>6</td>\n",
       "    </tr>\n",
       "    <tr>\n",
       "      <th>4</th>\n",
       "      <td>A410250016</td>\n",
       "      <td>Dian Fadila Hesrindra</td>\n",
       "      <td>Akhwat</td>\n",
       "      <td>Fakultas Keguruan &amp; Ilmu Pendidikan</td>\n",
       "      <td>Pendidikan Matematika</td>\n",
       "      <td>8</td>\n",
       "    </tr>\n",
       "  </tbody>\n",
       "</table>\n",
       "</div>"
      ],
      "text/plain": [
       "          NIM                   Nama Keterangan  \\\n",
       "0  A210250004  Nisrina Hasna Mufidah     Akhwat   \n",
       "1  A210250029  Anisa Fitri Rahmadani     Akhwat   \n",
       "2  A310250010     Alya Putri Nafisah     Akhwat   \n",
       "3  A310250011   Nelsha Azalia Ilaffi     Akhwat   \n",
       "4  A410250016  Dian Fadila Hesrindra     Akhwat   \n",
       "\n",
       "                              Fakultas  \\\n",
       "0  Fakultas Keguruan & Ilmu Pendidikan   \n",
       "1  Fakultas Keguruan & Ilmu Pendidikan   \n",
       "2  Fakultas Keguruan & Ilmu Pendidikan   \n",
       "3  Fakultas Keguruan & Ilmu Pendidikan   \n",
       "4  Fakultas Keguruan & Ilmu Pendidikan   \n",
       "\n",
       "                            Program Studi  Hafalan  \n",
       "0                    Pendidikan Akuntansi        9  \n",
       "1                    Pendidikan Akuntansi        5  \n",
       "2  Pendidikan Bahasa dan Sastra Indonesia        6  \n",
       "3  Pendidikan Bahasa dan Sastra Indonesia        6  \n",
       "4                   Pendidikan Matematika        8  "
      ]
     },
     "execution_count": 12,
     "metadata": {},
     "output_type": "execute_result"
    }
   ],
   "source": [
    "df.head()"
   ]
  },
  {
   "cell_type": "markdown",
   "id": "12600640",
   "metadata": {},
   "source": [
    "## 4. Visualisasi"
   ]
  },
  {
   "cell_type": "code",
   "execution_count": 13,
   "id": "f3c16177",
   "metadata": {},
   "outputs": [
    {
     "data": {
      "application/vnd.plotly.v1+json": {
       "config": {
        "plotlyServerURL": "https://plot.ly"
       },
       "data": [
        {
         "hovertemplate": "Fakultas=%{x}<br>count=%{y}<extra></extra>",
         "legendgroup": "Fakultas Keguruan & Ilmu Pendidikan",
         "marker": {
          "color": "#636efa",
          "pattern": {
           "shape": ""
          }
         },
         "name": "Fakultas Keguruan & Ilmu Pendidikan",
         "orientation": "v",
         "showlegend": true,
         "textposition": "auto",
         "type": "bar",
         "x": [
          "Fakultas Keguruan & Ilmu Pendidikan",
          "Fakultas Keguruan & Ilmu Pendidikan",
          "Fakultas Keguruan & Ilmu Pendidikan",
          "Fakultas Keguruan & Ilmu Pendidikan",
          "Fakultas Keguruan & Ilmu Pendidikan",
          "Fakultas Keguruan & Ilmu Pendidikan",
          "Fakultas Keguruan & Ilmu Pendidikan",
          "Fakultas Keguruan & Ilmu Pendidikan",
          "Fakultas Keguruan & Ilmu Pendidikan",
          "Fakultas Keguruan & Ilmu Pendidikan",
          "Fakultas Keguruan & Ilmu Pendidikan",
          "Fakultas Keguruan & Ilmu Pendidikan",
          "Fakultas Keguruan & Ilmu Pendidikan",
          "Fakultas Keguruan & Ilmu Pendidikan",
          "Fakultas Keguruan & Ilmu Pendidikan",
          "Fakultas Keguruan & Ilmu Pendidikan",
          "Fakultas Keguruan & Ilmu Pendidikan",
          "Fakultas Keguruan & Ilmu Pendidikan",
          "Fakultas Keguruan & Ilmu Pendidikan",
          "Fakultas Keguruan & Ilmu Pendidikan",
          "Fakultas Keguruan & Ilmu Pendidikan",
          "Fakultas Keguruan & Ilmu Pendidikan",
          "Fakultas Keguruan & Ilmu Pendidikan",
          "Fakultas Keguruan & Ilmu Pendidikan",
          "Fakultas Keguruan & Ilmu Pendidikan",
          "Fakultas Keguruan & Ilmu Pendidikan",
          "Fakultas Keguruan & Ilmu Pendidikan",
          "Fakultas Keguruan & Ilmu Pendidikan",
          "Fakultas Keguruan & Ilmu Pendidikan",
          "Fakultas Keguruan & Ilmu Pendidikan",
          "Fakultas Keguruan & Ilmu Pendidikan",
          "Fakultas Keguruan & Ilmu Pendidikan",
          "Fakultas Keguruan & Ilmu Pendidikan",
          "Fakultas Keguruan & Ilmu Pendidikan",
          "Fakultas Keguruan & Ilmu Pendidikan"
         ],
         "xaxis": "x",
         "y": {
          "bdata": "AQEBAQEBAQEBAQEBAQEBAQEBAQEBAQEBAQEBAQEBAQEBAQE=",
          "dtype": "i1"
         },
         "yaxis": "y"
        },
        {
         "hovertemplate": "Fakultas=%{x}<br>count=%{y}<extra></extra>",
         "legendgroup": "Fakultas Ekonomi & Bisnis",
         "marker": {
          "color": "#EF553B",
          "pattern": {
           "shape": ""
          }
         },
         "name": "Fakultas Ekonomi & Bisnis",
         "orientation": "v",
         "showlegend": true,
         "textposition": "auto",
         "type": "bar",
         "x": [
          "Fakultas Ekonomi & Bisnis",
          "Fakultas Ekonomi & Bisnis",
          "Fakultas Ekonomi & Bisnis",
          "Fakultas Ekonomi & Bisnis",
          "Fakultas Ekonomi & Bisnis",
          "Fakultas Ekonomi & Bisnis",
          "Fakultas Ekonomi & Bisnis",
          "Fakultas Ekonomi & Bisnis",
          "Fakultas Ekonomi & Bisnis",
          "Fakultas Ekonomi & Bisnis",
          "Fakultas Ekonomi & Bisnis",
          "Fakultas Ekonomi & Bisnis",
          "Fakultas Ekonomi & Bisnis",
          "Fakultas Ekonomi & Bisnis",
          "Fakultas Ekonomi & Bisnis",
          "Fakultas Ekonomi & Bisnis",
          "Fakultas Ekonomi & Bisnis",
          "Fakultas Ekonomi & Bisnis",
          "Fakultas Ekonomi & Bisnis",
          "Fakultas Ekonomi & Bisnis",
          "Fakultas Ekonomi & Bisnis",
          "Fakultas Ekonomi & Bisnis",
          "Fakultas Ekonomi & Bisnis",
          "Fakultas Ekonomi & Bisnis",
          "Fakultas Ekonomi & Bisnis",
          "Fakultas Ekonomi & Bisnis",
          "Fakultas Ekonomi & Bisnis",
          "Fakultas Ekonomi & Bisnis",
          "Fakultas Ekonomi & Bisnis",
          "Fakultas Ekonomi & Bisnis",
          "Fakultas Ekonomi & Bisnis",
          "Fakultas Ekonomi & Bisnis",
          "Fakultas Ekonomi & Bisnis",
          "Fakultas Ekonomi & Bisnis",
          "Fakultas Ekonomi & Bisnis",
          "Fakultas Ekonomi & Bisnis",
          "Fakultas Ekonomi & Bisnis",
          "Fakultas Ekonomi & Bisnis",
          "Fakultas Ekonomi & Bisnis",
          "Fakultas Ekonomi & Bisnis"
         ],
         "xaxis": "x",
         "y": {
          "bdata": "AQEBAQEBAQEBAQEBAQEBAQEBAQEBAQEBAQEBAQEBAQEBAQEBAQEBAQ==",
          "dtype": "i1"
         },
         "yaxis": "y"
        },
        {
         "hovertemplate": "Fakultas=%{x}<br>count=%{y}<extra></extra>",
         "legendgroup": "Fakultas Hukum & Ilmu Politik",
         "marker": {
          "color": "#00cc96",
          "pattern": {
           "shape": ""
          }
         },
         "name": "Fakultas Hukum & Ilmu Politik",
         "orientation": "v",
         "showlegend": true,
         "textposition": "auto",
         "type": "bar",
         "x": [
          "Fakultas Hukum & Ilmu Politik",
          "Fakultas Hukum & Ilmu Politik",
          "Fakultas Hukum & Ilmu Politik",
          "Fakultas Hukum & Ilmu Politik",
          "Fakultas Hukum & Ilmu Politik",
          "Fakultas Hukum & Ilmu Politik"
         ],
         "xaxis": "x",
         "y": {
          "bdata": "AQEBAQEB",
          "dtype": "i1"
         },
         "yaxis": "y"
        },
        {
         "hovertemplate": "Fakultas=%{x}<br>count=%{y}<extra></extra>",
         "legendgroup": "Fakultas Psikologi",
         "marker": {
          "color": "#ab63fa",
          "pattern": {
           "shape": ""
          }
         },
         "name": "Fakultas Psikologi",
         "orientation": "v",
         "showlegend": true,
         "textposition": "auto",
         "type": "bar",
         "x": [
          "Fakultas Psikologi",
          "Fakultas Psikologi",
          "Fakultas Psikologi",
          "Fakultas Psikologi",
          "Fakultas Psikologi",
          "Fakultas Psikologi",
          "Fakultas Psikologi",
          "Fakultas Psikologi",
          "Fakultas Psikologi",
          "Fakultas Psikologi",
          "Fakultas Psikologi",
          "Fakultas Psikologi",
          "Fakultas Psikologi",
          "Fakultas Psikologi",
          "Fakultas Psikologi",
          "Fakultas Psikologi",
          "Fakultas Psikologi",
          "Fakultas Psikologi",
          "Fakultas Psikologi",
          "Fakultas Psikologi",
          "Fakultas Psikologi"
         ],
         "xaxis": "x",
         "y": {
          "bdata": "AQEBAQEBAQEBAQEBAQEBAQEBAQEB",
          "dtype": "i1"
         },
         "yaxis": "y"
        },
        {
         "hovertemplate": "Fakultas=%{x}<br>count=%{y}<extra></extra>",
         "legendgroup": "Fakultas Agama Islam",
         "marker": {
          "color": "#FFA15A",
          "pattern": {
           "shape": ""
          }
         },
         "name": "Fakultas Agama Islam",
         "orientation": "v",
         "showlegend": true,
         "textposition": "auto",
         "type": "bar",
         "x": [
          "Fakultas Agama Islam",
          "Fakultas Agama Islam",
          "Fakultas Agama Islam",
          "Fakultas Agama Islam",
          "Fakultas Agama Islam",
          "Fakultas Agama Islam",
          "Fakultas Agama Islam",
          "Fakultas Agama Islam",
          "Fakultas Agama Islam",
          "Fakultas Agama Islam",
          "Fakultas Agama Islam",
          "Fakultas Agama Islam",
          "Fakultas Agama Islam",
          "Fakultas Agama Islam",
          "Fakultas Agama Islam",
          "Fakultas Agama Islam",
          "Fakultas Agama Islam",
          "Fakultas Agama Islam",
          "Fakultas Agama Islam",
          "Fakultas Agama Islam",
          "Fakultas Agama Islam",
          "Fakultas Agama Islam",
          "Fakultas Agama Islam",
          "Fakultas Agama Islam",
          "Fakultas Agama Islam",
          "Fakultas Agama Islam",
          "Fakultas Agama Islam",
          "Fakultas Agama Islam",
          "Fakultas Agama Islam",
          "Fakultas Agama Islam",
          "Fakultas Agama Islam",
          "Fakultas Agama Islam",
          "Fakultas Agama Islam",
          "Fakultas Agama Islam",
          "Fakultas Agama Islam",
          "Fakultas Agama Islam",
          "Fakultas Agama Islam",
          "Fakultas Agama Islam",
          "Fakultas Agama Islam",
          "Fakultas Agama Islam",
          "Fakultas Agama Islam",
          "Fakultas Agama Islam",
          "Fakultas Agama Islam",
          "Fakultas Agama Islam",
          "Fakultas Agama Islam",
          "Fakultas Agama Islam",
          "Fakultas Agama Islam",
          "Fakultas Agama Islam",
          "Fakultas Agama Islam",
          "Fakultas Agama Islam",
          "Fakultas Agama Islam",
          "Fakultas Agama Islam",
          "Fakultas Agama Islam",
          "Fakultas Agama Islam",
          "Fakultas Agama Islam",
          "Fakultas Agama Islam",
          "Fakultas Agama Islam",
          "Fakultas Agama Islam",
          "Fakultas Agama Islam",
          "Fakultas Agama Islam",
          "Fakultas Agama Islam",
          "Fakultas Agama Islam",
          "Fakultas Agama Islam",
          "Fakultas Agama Islam",
          "Fakultas Agama Islam",
          "Fakultas Agama Islam",
          "Fakultas Agama Islam",
          "Fakultas Agama Islam",
          "Fakultas Agama Islam",
          "Fakultas Agama Islam",
          "Fakultas Agama Islam",
          "Fakultas Agama Islam",
          "Fakultas Agama Islam",
          "Fakultas Agama Islam",
          "Fakultas Agama Islam",
          "Fakultas Agama Islam",
          "Fakultas Agama Islam",
          "Fakultas Agama Islam",
          "Fakultas Agama Islam",
          "Fakultas Agama Islam",
          "Fakultas Agama Islam",
          "Fakultas Agama Islam",
          "Fakultas Agama Islam",
          "Fakultas Agama Islam",
          "Fakultas Agama Islam",
          "Fakultas Agama Islam",
          "Fakultas Agama Islam",
          "Fakultas Agama Islam",
          "Fakultas Agama Islam",
          "Fakultas Agama Islam",
          "Fakultas Agama Islam",
          "Fakultas Agama Islam",
          "Fakultas Agama Islam",
          "Fakultas Agama Islam",
          "Fakultas Agama Islam",
          "Fakultas Agama Islam",
          "Fakultas Agama Islam",
          "Fakultas Agama Islam",
          "Fakultas Agama Islam",
          "Fakultas Agama Islam",
          "Fakultas Agama Islam",
          "Fakultas Agama Islam",
          "Fakultas Agama Islam",
          "Fakultas Agama Islam",
          "Fakultas Agama Islam",
          "Fakultas Agama Islam",
          "Fakultas Agama Islam",
          "Fakultas Agama Islam",
          "Fakultas Agama Islam",
          "Fakultas Agama Islam",
          "Fakultas Agama Islam",
          "Fakultas Agama Islam",
          "Fakultas Agama Islam",
          "Fakultas Agama Islam"
         ],
         "xaxis": "x",
         "y": {
          "bdata": "AQEBAQEBAQEBAQEBAQEBAQEBAQEBAQEBAQEBAQEBAQEBAQEBAQEBAQEBAQEBAQEBAQEBAQEBAQEBAQEBAQEBAQEBAQEBAQEBAQEBAQEBAQEBAQEBAQEBAQEBAQEBAQEBAQEBAQEBAQEBAQEBAQEBAQEB",
          "dtype": "i1"
         },
         "yaxis": "y"
        },
        {
         "hovertemplate": "Fakultas=%{x}<br>count=%{y}<extra></extra>",
         "legendgroup": "Fakultas Ilmu Keperawatan",
         "marker": {
          "color": "#19d3f3",
          "pattern": {
           "shape": ""
          }
         },
         "name": "Fakultas Ilmu Keperawatan",
         "orientation": "v",
         "showlegend": true,
         "textposition": "auto",
         "type": "bar",
         "x": [
          "Fakultas Ilmu Keperawatan",
          "Fakultas Ilmu Keperawatan",
          "Fakultas Ilmu Keperawatan",
          "Fakultas Ilmu Keperawatan",
          "Fakultas Ilmu Keperawatan",
          "Fakultas Ilmu Keperawatan",
          "Fakultas Ilmu Keperawatan",
          "Fakultas Ilmu Keperawatan",
          "Fakultas Ilmu Keperawatan",
          "Fakultas Ilmu Keperawatan",
          "Fakultas Ilmu Keperawatan",
          "Fakultas Ilmu Keperawatan",
          "Fakultas Ilmu Keperawatan",
          "Fakultas Ilmu Keperawatan",
          "Fakultas Ilmu Keperawatan",
          "Fakultas Ilmu Keperawatan",
          "Fakultas Ilmu Keperawatan",
          "Fakultas Ilmu Keperawatan",
          "Fakultas Ilmu Keperawatan",
          "Fakultas Ilmu Keperawatan",
          "Fakultas Ilmu Keperawatan",
          "Fakultas Ilmu Keperawatan",
          "Fakultas Ilmu Keperawatan",
          "Fakultas Ilmu Keperawatan",
          "Fakultas Ilmu Keperawatan",
          "Fakultas Ilmu Keperawatan",
          "Fakultas Ilmu Keperawatan",
          "Fakultas Ilmu Keperawatan",
          "Fakultas Ilmu Keperawatan",
          "Fakultas Ilmu Keperawatan",
          "Fakultas Ilmu Keperawatan",
          "Fakultas Ilmu Keperawatan"
         ],
         "xaxis": "x",
         "y": {
          "bdata": "AQEBAQEBAQEBAQEBAQEBAQEBAQEBAQEBAQEBAQEBAQE=",
          "dtype": "i1"
         },
         "yaxis": "y"
        },
        {
         "hovertemplate": "Fakultas=%{x}<br>count=%{y}<extra></extra>",
         "legendgroup": "Fakultas Kedokteran Gigi",
         "marker": {
          "color": "#FF6692",
          "pattern": {
           "shape": ""
          }
         },
         "name": "Fakultas Kedokteran Gigi",
         "orientation": "v",
         "showlegend": true,
         "textposition": "auto",
         "type": "bar",
         "x": [
          "Fakultas Kedokteran Gigi",
          "Fakultas Kedokteran Gigi",
          "Fakultas Kedokteran Gigi",
          "Fakultas Kedokteran Gigi",
          "Fakultas Kedokteran Gigi",
          "Fakultas Kedokteran Gigi",
          "Fakultas Kedokteran Gigi",
          "Fakultas Kedokteran Gigi",
          "Fakultas Kedokteran Gigi",
          "Fakultas Kedokteran Gigi"
         ],
         "xaxis": "x",
         "y": {
          "bdata": "AQEBAQEBAQEBAQ==",
          "dtype": "i1"
         },
         "yaxis": "y"
        },
        {
         "hovertemplate": "Fakultas=%{x}<br>count=%{y}<extra></extra>",
         "legendgroup": "Fakultas Farmasi",
         "marker": {
          "color": "#B6E880",
          "pattern": {
           "shape": ""
          }
         },
         "name": "Fakultas Farmasi",
         "orientation": "v",
         "showlegend": true,
         "textposition": "auto",
         "type": "bar",
         "x": [
          "Fakultas Farmasi",
          "Fakultas Farmasi",
          "Fakultas Farmasi",
          "Fakultas Farmasi",
          "Fakultas Farmasi",
          "Fakultas Farmasi",
          "Fakultas Farmasi",
          "Fakultas Farmasi",
          "Fakultas Farmasi",
          "Fakultas Farmasi",
          "Fakultas Farmasi",
          "Fakultas Farmasi"
         ],
         "xaxis": "x",
         "y": {
          "bdata": "AQEBAQEBAQEBAQEB",
          "dtype": "i1"
         },
         "yaxis": "y"
        },
        {
         "hovertemplate": "Fakultas=%{x}<br>count=%{y}<extra></extra>",
         "legendgroup": "Fakultas Komunikasi & Informatika",
         "marker": {
          "color": "#FF97FF",
          "pattern": {
           "shape": ""
          }
         },
         "name": "Fakultas Komunikasi & Informatika",
         "orientation": "v",
         "showlegend": true,
         "textposition": "auto",
         "type": "bar",
         "x": [
          "Fakultas Komunikasi & Informatika",
          "Fakultas Komunikasi & Informatika",
          "Fakultas Komunikasi & Informatika",
          "Fakultas Komunikasi & Informatika",
          "Fakultas Komunikasi & Informatika",
          "Fakultas Komunikasi & Informatika",
          "Fakultas Komunikasi & Informatika",
          "Fakultas Komunikasi & Informatika",
          "Fakultas Komunikasi & Informatika",
          "Fakultas Komunikasi & Informatika",
          "Fakultas Komunikasi & Informatika",
          "Fakultas Komunikasi & Informatika",
          "Fakultas Komunikasi & Informatika",
          "Fakultas Komunikasi & Informatika",
          "Fakultas Komunikasi & Informatika",
          "Fakultas Komunikasi & Informatika",
          "Fakultas Komunikasi & Informatika",
          "Fakultas Komunikasi & Informatika",
          "Fakultas Komunikasi & Informatika",
          "Fakultas Komunikasi & Informatika",
          "Fakultas Komunikasi & Informatika",
          "Fakultas Komunikasi & Informatika",
          "Fakultas Komunikasi & Informatika",
          "Fakultas Komunikasi & Informatika"
         ],
         "xaxis": "x",
         "y": {
          "bdata": "AQEBAQEBAQEBAQEBAQEBAQEBAQEBAQEB",
          "dtype": "i1"
         },
         "yaxis": "y"
        },
        {
         "hovertemplate": "Fakultas=%{x}<br>count=%{y}<extra></extra>",
         "legendgroup": "Fakultas Teknik",
         "marker": {
          "color": "#FECB52",
          "pattern": {
           "shape": ""
          }
         },
         "name": "Fakultas Teknik",
         "orientation": "v",
         "showlegend": true,
         "textposition": "auto",
         "type": "bar",
         "x": [
          "Fakultas Teknik",
          "Fakultas Teknik",
          "Fakultas Teknik",
          "Fakultas Teknik",
          "Fakultas Teknik",
          "Fakultas Teknik",
          "Fakultas Teknik",
          "Fakultas Teknik",
          "Fakultas Teknik",
          "Fakultas Teknik"
         ],
         "xaxis": "x",
         "y": {
          "bdata": "AQEBAQEBAQEBAQ==",
          "dtype": "i1"
         },
         "yaxis": "y"
        },
        {
         "hovertemplate": "Fakultas=%{x}<br>count=%{y}<extra></extra>",
         "legendgroup": "Fakultas Kedokteran",
         "marker": {
          "color": "#636efa",
          "pattern": {
           "shape": ""
          }
         },
         "name": "Fakultas Kedokteran",
         "orientation": "v",
         "showlegend": true,
         "textposition": "auto",
         "type": "bar",
         "x": [
          "Fakultas Kedokteran"
         ],
         "xaxis": "x",
         "y": {
          "bdata": "AQ==",
          "dtype": "i1"
         },
         "yaxis": "y"
        },
        {
         "hovertemplate": "Fakultas=%{x}<br>count=%{y}<extra></extra>",
         "legendgroup": "Fakultas Geografi",
         "marker": {
          "color": "#EF553B",
          "pattern": {
           "shape": ""
          }
         },
         "name": "Fakultas Geografi",
         "orientation": "v",
         "showlegend": true,
         "textposition": "auto",
         "type": "bar",
         "x": [
          "Fakultas Geografi"
         ],
         "xaxis": "x",
         "y": {
          "bdata": "AQ==",
          "dtype": "i1"
         },
         "yaxis": "y"
        }
       ],
       "layout": {
        "barmode": "relative",
        "legend": {
         "title": {
          "text": "Fakultas"
         },
         "tracegroupgap": 0
        },
        "template": {
         "data": {
          "bar": [
           {
            "error_x": {
             "color": "#2a3f5f"
            },
            "error_y": {
             "color": "#2a3f5f"
            },
            "marker": {
             "line": {
              "color": "#E5ECF6",
              "width": 0.5
             },
             "pattern": {
              "fillmode": "overlay",
              "size": 10,
              "solidity": 0.2
             }
            },
            "type": "bar"
           }
          ],
          "barpolar": [
           {
            "marker": {
             "line": {
              "color": "#E5ECF6",
              "width": 0.5
             },
             "pattern": {
              "fillmode": "overlay",
              "size": 10,
              "solidity": 0.2
             }
            },
            "type": "barpolar"
           }
          ],
          "carpet": [
           {
            "aaxis": {
             "endlinecolor": "#2a3f5f",
             "gridcolor": "white",
             "linecolor": "white",
             "minorgridcolor": "white",
             "startlinecolor": "#2a3f5f"
            },
            "baxis": {
             "endlinecolor": "#2a3f5f",
             "gridcolor": "white",
             "linecolor": "white",
             "minorgridcolor": "white",
             "startlinecolor": "#2a3f5f"
            },
            "type": "carpet"
           }
          ],
          "choropleth": [
           {
            "colorbar": {
             "outlinewidth": 0,
             "ticks": ""
            },
            "type": "choropleth"
           }
          ],
          "contour": [
           {
            "colorbar": {
             "outlinewidth": 0,
             "ticks": ""
            },
            "colorscale": [
             [
              0,
              "#0d0887"
             ],
             [
              0.1111111111111111,
              "#46039f"
             ],
             [
              0.2222222222222222,
              "#7201a8"
             ],
             [
              0.3333333333333333,
              "#9c179e"
             ],
             [
              0.4444444444444444,
              "#bd3786"
             ],
             [
              0.5555555555555556,
              "#d8576b"
             ],
             [
              0.6666666666666666,
              "#ed7953"
             ],
             [
              0.7777777777777778,
              "#fb9f3a"
             ],
             [
              0.8888888888888888,
              "#fdca26"
             ],
             [
              1,
              "#f0f921"
             ]
            ],
            "type": "contour"
           }
          ],
          "contourcarpet": [
           {
            "colorbar": {
             "outlinewidth": 0,
             "ticks": ""
            },
            "type": "contourcarpet"
           }
          ],
          "heatmap": [
           {
            "colorbar": {
             "outlinewidth": 0,
             "ticks": ""
            },
            "colorscale": [
             [
              0,
              "#0d0887"
             ],
             [
              0.1111111111111111,
              "#46039f"
             ],
             [
              0.2222222222222222,
              "#7201a8"
             ],
             [
              0.3333333333333333,
              "#9c179e"
             ],
             [
              0.4444444444444444,
              "#bd3786"
             ],
             [
              0.5555555555555556,
              "#d8576b"
             ],
             [
              0.6666666666666666,
              "#ed7953"
             ],
             [
              0.7777777777777778,
              "#fb9f3a"
             ],
             [
              0.8888888888888888,
              "#fdca26"
             ],
             [
              1,
              "#f0f921"
             ]
            ],
            "type": "heatmap"
           }
          ],
          "histogram": [
           {
            "marker": {
             "pattern": {
              "fillmode": "overlay",
              "size": 10,
              "solidity": 0.2
             }
            },
            "type": "histogram"
           }
          ],
          "histogram2d": [
           {
            "colorbar": {
             "outlinewidth": 0,
             "ticks": ""
            },
            "colorscale": [
             [
              0,
              "#0d0887"
             ],
             [
              0.1111111111111111,
              "#46039f"
             ],
             [
              0.2222222222222222,
              "#7201a8"
             ],
             [
              0.3333333333333333,
              "#9c179e"
             ],
             [
              0.4444444444444444,
              "#bd3786"
             ],
             [
              0.5555555555555556,
              "#d8576b"
             ],
             [
              0.6666666666666666,
              "#ed7953"
             ],
             [
              0.7777777777777778,
              "#fb9f3a"
             ],
             [
              0.8888888888888888,
              "#fdca26"
             ],
             [
              1,
              "#f0f921"
             ]
            ],
            "type": "histogram2d"
           }
          ],
          "histogram2dcontour": [
           {
            "colorbar": {
             "outlinewidth": 0,
             "ticks": ""
            },
            "colorscale": [
             [
              0,
              "#0d0887"
             ],
             [
              0.1111111111111111,
              "#46039f"
             ],
             [
              0.2222222222222222,
              "#7201a8"
             ],
             [
              0.3333333333333333,
              "#9c179e"
             ],
             [
              0.4444444444444444,
              "#bd3786"
             ],
             [
              0.5555555555555556,
              "#d8576b"
             ],
             [
              0.6666666666666666,
              "#ed7953"
             ],
             [
              0.7777777777777778,
              "#fb9f3a"
             ],
             [
              0.8888888888888888,
              "#fdca26"
             ],
             [
              1,
              "#f0f921"
             ]
            ],
            "type": "histogram2dcontour"
           }
          ],
          "mesh3d": [
           {
            "colorbar": {
             "outlinewidth": 0,
             "ticks": ""
            },
            "type": "mesh3d"
           }
          ],
          "parcoords": [
           {
            "line": {
             "colorbar": {
              "outlinewidth": 0,
              "ticks": ""
             }
            },
            "type": "parcoords"
           }
          ],
          "pie": [
           {
            "automargin": true,
            "type": "pie"
           }
          ],
          "scatter": [
           {
            "fillpattern": {
             "fillmode": "overlay",
             "size": 10,
             "solidity": 0.2
            },
            "type": "scatter"
           }
          ],
          "scatter3d": [
           {
            "line": {
             "colorbar": {
              "outlinewidth": 0,
              "ticks": ""
             }
            },
            "marker": {
             "colorbar": {
              "outlinewidth": 0,
              "ticks": ""
             }
            },
            "type": "scatter3d"
           }
          ],
          "scattercarpet": [
           {
            "marker": {
             "colorbar": {
              "outlinewidth": 0,
              "ticks": ""
             }
            },
            "type": "scattercarpet"
           }
          ],
          "scattergeo": [
           {
            "marker": {
             "colorbar": {
              "outlinewidth": 0,
              "ticks": ""
             }
            },
            "type": "scattergeo"
           }
          ],
          "scattergl": [
           {
            "marker": {
             "colorbar": {
              "outlinewidth": 0,
              "ticks": ""
             }
            },
            "type": "scattergl"
           }
          ],
          "scattermap": [
           {
            "marker": {
             "colorbar": {
              "outlinewidth": 0,
              "ticks": ""
             }
            },
            "type": "scattermap"
           }
          ],
          "scattermapbox": [
           {
            "marker": {
             "colorbar": {
              "outlinewidth": 0,
              "ticks": ""
             }
            },
            "type": "scattermapbox"
           }
          ],
          "scatterpolar": [
           {
            "marker": {
             "colorbar": {
              "outlinewidth": 0,
              "ticks": ""
             }
            },
            "type": "scatterpolar"
           }
          ],
          "scatterpolargl": [
           {
            "marker": {
             "colorbar": {
              "outlinewidth": 0,
              "ticks": ""
             }
            },
            "type": "scatterpolargl"
           }
          ],
          "scatterternary": [
           {
            "marker": {
             "colorbar": {
              "outlinewidth": 0,
              "ticks": ""
             }
            },
            "type": "scatterternary"
           }
          ],
          "surface": [
           {
            "colorbar": {
             "outlinewidth": 0,
             "ticks": ""
            },
            "colorscale": [
             [
              0,
              "#0d0887"
             ],
             [
              0.1111111111111111,
              "#46039f"
             ],
             [
              0.2222222222222222,
              "#7201a8"
             ],
             [
              0.3333333333333333,
              "#9c179e"
             ],
             [
              0.4444444444444444,
              "#bd3786"
             ],
             [
              0.5555555555555556,
              "#d8576b"
             ],
             [
              0.6666666666666666,
              "#ed7953"
             ],
             [
              0.7777777777777778,
              "#fb9f3a"
             ],
             [
              0.8888888888888888,
              "#fdca26"
             ],
             [
              1,
              "#f0f921"
             ]
            ],
            "type": "surface"
           }
          ],
          "table": [
           {
            "cells": {
             "fill": {
              "color": "#EBF0F8"
             },
             "line": {
              "color": "white"
             }
            },
            "header": {
             "fill": {
              "color": "#C8D4E3"
             },
             "line": {
              "color": "white"
             }
            },
            "type": "table"
           }
          ]
         },
         "layout": {
          "annotationdefaults": {
           "arrowcolor": "#2a3f5f",
           "arrowhead": 0,
           "arrowwidth": 1
          },
          "autotypenumbers": "strict",
          "coloraxis": {
           "colorbar": {
            "outlinewidth": 0,
            "ticks": ""
           }
          },
          "colorscale": {
           "diverging": [
            [
             0,
             "#8e0152"
            ],
            [
             0.1,
             "#c51b7d"
            ],
            [
             0.2,
             "#de77ae"
            ],
            [
             0.3,
             "#f1b6da"
            ],
            [
             0.4,
             "#fde0ef"
            ],
            [
             0.5,
             "#f7f7f7"
            ],
            [
             0.6,
             "#e6f5d0"
            ],
            [
             0.7,
             "#b8e186"
            ],
            [
             0.8,
             "#7fbc41"
            ],
            [
             0.9,
             "#4d9221"
            ],
            [
             1,
             "#276419"
            ]
           ],
           "sequential": [
            [
             0,
             "#0d0887"
            ],
            [
             0.1111111111111111,
             "#46039f"
            ],
            [
             0.2222222222222222,
             "#7201a8"
            ],
            [
             0.3333333333333333,
             "#9c179e"
            ],
            [
             0.4444444444444444,
             "#bd3786"
            ],
            [
             0.5555555555555556,
             "#d8576b"
            ],
            [
             0.6666666666666666,
             "#ed7953"
            ],
            [
             0.7777777777777778,
             "#fb9f3a"
            ],
            [
             0.8888888888888888,
             "#fdca26"
            ],
            [
             1,
             "#f0f921"
            ]
           ],
           "sequentialminus": [
            [
             0,
             "#0d0887"
            ],
            [
             0.1111111111111111,
             "#46039f"
            ],
            [
             0.2222222222222222,
             "#7201a8"
            ],
            [
             0.3333333333333333,
             "#9c179e"
            ],
            [
             0.4444444444444444,
             "#bd3786"
            ],
            [
             0.5555555555555556,
             "#d8576b"
            ],
            [
             0.6666666666666666,
             "#ed7953"
            ],
            [
             0.7777777777777778,
             "#fb9f3a"
            ],
            [
             0.8888888888888888,
             "#fdca26"
            ],
            [
             1,
             "#f0f921"
            ]
           ]
          },
          "colorway": [
           "#636efa",
           "#EF553B",
           "#00cc96",
           "#ab63fa",
           "#FFA15A",
           "#19d3f3",
           "#FF6692",
           "#B6E880",
           "#FF97FF",
           "#FECB52"
          ],
          "font": {
           "color": "#2a3f5f"
          },
          "geo": {
           "bgcolor": "white",
           "lakecolor": "white",
           "landcolor": "#E5ECF6",
           "showlakes": true,
           "showland": true,
           "subunitcolor": "white"
          },
          "hoverlabel": {
           "align": "left"
          },
          "hovermode": "closest",
          "mapbox": {
           "style": "light"
          },
          "paper_bgcolor": "white",
          "plot_bgcolor": "#E5ECF6",
          "polar": {
           "angularaxis": {
            "gridcolor": "white",
            "linecolor": "white",
            "ticks": ""
           },
           "bgcolor": "#E5ECF6",
           "radialaxis": {
            "gridcolor": "white",
            "linecolor": "white",
            "ticks": ""
           }
          },
          "scene": {
           "xaxis": {
            "backgroundcolor": "#E5ECF6",
            "gridcolor": "white",
            "gridwidth": 2,
            "linecolor": "white",
            "showbackground": true,
            "ticks": "",
            "zerolinecolor": "white"
           },
           "yaxis": {
            "backgroundcolor": "#E5ECF6",
            "gridcolor": "white",
            "gridwidth": 2,
            "linecolor": "white",
            "showbackground": true,
            "ticks": "",
            "zerolinecolor": "white"
           },
           "zaxis": {
            "backgroundcolor": "#E5ECF6",
            "gridcolor": "white",
            "gridwidth": 2,
            "linecolor": "white",
            "showbackground": true,
            "ticks": "",
            "zerolinecolor": "white"
           }
          },
          "shapedefaults": {
           "line": {
            "color": "#2a3f5f"
           }
          },
          "ternary": {
           "aaxis": {
            "gridcolor": "white",
            "linecolor": "white",
            "ticks": ""
           },
           "baxis": {
            "gridcolor": "white",
            "linecolor": "white",
            "ticks": ""
           },
           "bgcolor": "#E5ECF6",
           "caxis": {
            "gridcolor": "white",
            "linecolor": "white",
            "ticks": ""
           }
          },
          "title": {
           "x": 0.05
          },
          "xaxis": {
           "automargin": true,
           "gridcolor": "white",
           "linecolor": "white",
           "ticks": "",
           "title": {
            "standoff": 15
           },
           "zerolinecolor": "white",
           "zerolinewidth": 2
          },
          "yaxis": {
           "automargin": true,
           "gridcolor": "white",
           "linecolor": "white",
           "ticks": "",
           "title": {
            "standoff": 15
           },
           "zerolinecolor": "white",
           "zerolinewidth": 2
          }
         }
        },
        "title": {
         "text": "Jumlah Mahasiswa per Fakultas"
        },
        "xaxis": {
         "anchor": "y",
         "categoryarray": [
          "Fakultas Keguruan & Ilmu Pendidikan",
          "Fakultas Ekonomi & Bisnis",
          "Fakultas Hukum & Ilmu Politik",
          "Fakultas Psikologi",
          "Fakultas Agama Islam",
          "Fakultas Ilmu Keperawatan",
          "Fakultas Kedokteran Gigi",
          "Fakultas Farmasi",
          "Fakultas Komunikasi & Informatika",
          "Fakultas Teknik",
          "Fakultas Kedokteran",
          "Fakultas Geografi"
         ],
         "categoryorder": "array",
         "domain": [
          0,
          1
         ],
         "title": {
          "text": ""
         }
        },
        "yaxis": {
         "anchor": "x",
         "domain": [
          0,
          1
         ],
         "title": {
          "text": "Jumlah Mahasiswa"
         }
        }
       }
      }
     },
     "metadata": {},
     "output_type": "display_data"
    }
   ],
   "source": [
    "fig = px.bar(df, x=\"Fakultas\", color=\"Fakultas\",\n",
    "             title = \"Jumlah Mahasiswa per Fakultas\",)\n",
    "fig.update_layout(xaxis_title='', yaxis_title='Jumlah Mahasiswa')\n",
    "fig.show()"
   ]
  },
  {
   "cell_type": "code",
   "execution_count": 14,
   "id": "203549b8",
   "metadata": {},
   "outputs": [
    {
     "data": {
      "application/vnd.plotly.v1+json": {
       "config": {
        "plotlyServerURL": "https://plot.ly"
       },
       "data": [
        {
         "domain": {
          "x": [
           0,
           1
          ],
          "y": [
           0,
           1
          ]
         },
         "hovertemplate": "Keterangan=%{label}<extra></extra>",
         "labels": [
          "Akhwat",
          "Akhwat",
          "Akhwat",
          "Akhwat",
          "Akhwat",
          "Akhwat",
          "Akhwat",
          "Akhwat",
          "Akhwat",
          "Akhwat",
          "Akhwat",
          "Akhwat",
          "Akhwat",
          "Akhwat",
          "Akhwat",
          "Akhwat",
          "Akhwat",
          "Akhwat",
          "Akhwat",
          "Akhwat",
          "Akhwat",
          "Akhwat",
          "Akhwat",
          "Akhwat",
          "Akhwat",
          "Akhwat",
          "Akhwat",
          "Akhwat",
          "Akhwat",
          "Akhwat",
          "Akhwat",
          "Akhwat",
          "Akhwat",
          "Akhwat",
          "Akhwat",
          "Akhwat",
          "Akhwat",
          "Akhwat",
          "Akhwat",
          "Akhwat",
          "Akhwat",
          "Akhwat",
          "Akhwat",
          "Akhwat",
          "Akhwat",
          "Akhwat",
          "Akhwat",
          "Akhwat",
          "Akhwat",
          "Akhwat",
          "Akhwat",
          "Akhwat",
          "Akhwat",
          "Akhwat",
          "Akhwat",
          "Akhwat",
          "Akhwat",
          "Akhwat",
          "Akhwat",
          "Akhwat",
          "Akhwat",
          "Akhwat",
          "Akhwat",
          "Akhwat",
          "Akhwat",
          "Akhwat",
          "Akhwat",
          "Akhwat",
          "Akhwat",
          "Akhwat",
          "Akhwat",
          "Akhwat",
          "Akhwat",
          "Akhwat",
          "Akhwat",
          "Akhwat",
          "Akhwat",
          "Akhwat",
          "Akhwat",
          "Akhwat",
          "Akhwat",
          "Akhwat",
          "Akhwat",
          "Akhwat",
          "Akhwat",
          "Akhwat",
          "Akhwat",
          "Akhwat",
          "Akhwat",
          "Akhwat",
          "Akhwat",
          "Akhwat",
          "Akhwat",
          "Akhwat",
          "Akhwat",
          "Akhwat",
          "Akhwat",
          "Akhwat",
          "Akhwat",
          "Akhwat",
          "Akhwat",
          "Akhwat",
          "Akhwat",
          "Akhwat",
          "Akhwat",
          "Akhwat",
          "Akhwat",
          "Akhwat",
          "Akhwat",
          "Akhwat",
          "Ikhwan",
          "Ikhwan",
          "Ikhwan",
          "Ikhwan",
          "Ikhwan",
          "Ikhwan",
          "Ikhwan",
          "Ikhwan",
          "Ikhwan",
          "Ikhwan",
          "Ikhwan",
          "Ikhwan",
          "Ikhwan",
          "Ikhwan",
          "Ikhwan",
          "Ikhwan",
          "Ikhwan",
          "Ikhwan",
          "Ikhwan",
          "Ikhwan",
          "Ikhwan",
          "Ikhwan",
          "Ikhwan",
          "Ikhwan",
          "Ikhwan",
          "Ikhwan",
          "Ikhwan",
          "Ikhwan",
          "Ikhwan",
          "Ikhwan",
          "Ikhwan",
          "Ikhwan",
          "Ikhwan",
          "Ikhwan",
          "Ikhwan",
          "Ikhwan",
          "Ikhwan",
          "Ikhwan",
          "Ikhwan",
          "Ikhwan",
          "Ikhwan",
          "Ikhwan",
          "Ikhwan",
          "Ikhwan",
          "Ikhwan",
          "Ikhwan",
          "Ikhwan",
          "Ikhwan",
          "Ikhwan",
          "Ikhwan",
          "Ikhwan",
          "Ikhwan",
          "Ikhwan",
          "Ikhwan",
          "Ikhwan",
          "Ikhwan",
          "Ikhwan",
          "Ikhwan",
          "Ikhwan",
          "Ikhwan",
          "Ikhwan",
          "Ikhwan",
          "Ikhwan",
          "Ikhwan",
          "Ikhwan",
          "Ikhwan",
          "Ikhwan",
          "Ikhwan",
          "Ikhwan",
          "Ikhwan",
          "Ikhwan",
          "Ikhwan",
          "Ikhwan",
          "Ikhwan",
          "Akhwat",
          "Akhwat",
          "Akhwat",
          "Akhwat",
          "Akhwat",
          "Akhwat",
          "Akhwat",
          "Akhwat",
          "Akhwat",
          "Akhwat",
          "Akhwat",
          "Akhwat",
          "Akhwat",
          "Akhwat",
          "Akhwat",
          "Akhwat",
          "Akhwat",
          "Akhwat",
          "Akhwat",
          "Akhwat",
          "Akhwat",
          "Akhwat",
          "Akhwat",
          "Akhwat",
          "Akhwat",
          "Akhwat",
          "Akhwat",
          "Akhwat",
          "Akhwat",
          "Akhwat",
          "Akhwat",
          "Akhwat",
          "Akhwat",
          "Akhwat",
          "Akhwat",
          "Akhwat",
          "Akhwat",
          "Akhwat",
          "Akhwat",
          "Akhwat",
          "Akhwat",
          "Akhwat",
          "Akhwat",
          "Akhwat",
          "Akhwat",
          "Ikhwan",
          "Ikhwan",
          "Ikhwan",
          "Ikhwan",
          "Ikhwan",
          "Ikhwan",
          "Ikhwan",
          "Ikhwan",
          "Ikhwan",
          "Ikhwan",
          "Ikhwan",
          "Ikhwan",
          "Ikhwan",
          "Ikhwan",
          "Ikhwan",
          "Ikhwan",
          "Ikhwan",
          "Ikhwan",
          "Ikhwan",
          "Ikhwan",
          "Akhwat",
          "Akhwat",
          "Akhwat",
          "Akhwat",
          "Akhwat",
          "Akhwat",
          "Akhwat",
          "Akhwat",
          "Akhwat",
          "Akhwat",
          "Akhwat",
          "Akhwat",
          "Akhwat",
          "Akhwat",
          "Akhwat",
          "Akhwat",
          "Akhwat",
          "Akhwat",
          "Akhwat",
          "Akhwat",
          "Akhwat",
          "Akhwat",
          "Akhwat",
          "Akhwat",
          "Akhwat",
          "Akhwat",
          "Akhwat",
          "Akhwat",
          "Akhwat",
          "Akhwat",
          "Akhwat",
          "Akhwat",
          "Akhwat",
          "Akhwat",
          "Akhwat",
          "Akhwat",
          "Akhwat",
          "Akhwat",
          "Ikhwan",
          "Ikhwan",
          "Ikhwan",
          "Ikhwan",
          "Ikhwan",
          "Ikhwan",
          "Ikhwan",
          "Ikhwan",
          "Ikhwan",
          "Ikhwan",
          "Ikhwan",
          "Ikhwan",
          "Ikhwan",
          "Ikhwan",
          "Ikhwan",
          "Ikhwan",
          "Ikhwan",
          "Ikhwan",
          "Ikhwan"
         ],
         "legendgroup": "",
         "name": "",
         "showlegend": true,
         "type": "pie"
        }
       ],
       "layout": {
        "legend": {
         "tracegroupgap": 0
        },
        "template": {
         "data": {
          "bar": [
           {
            "error_x": {
             "color": "#2a3f5f"
            },
            "error_y": {
             "color": "#2a3f5f"
            },
            "marker": {
             "line": {
              "color": "#E5ECF6",
              "width": 0.5
             },
             "pattern": {
              "fillmode": "overlay",
              "size": 10,
              "solidity": 0.2
             }
            },
            "type": "bar"
           }
          ],
          "barpolar": [
           {
            "marker": {
             "line": {
              "color": "#E5ECF6",
              "width": 0.5
             },
             "pattern": {
              "fillmode": "overlay",
              "size": 10,
              "solidity": 0.2
             }
            },
            "type": "barpolar"
           }
          ],
          "carpet": [
           {
            "aaxis": {
             "endlinecolor": "#2a3f5f",
             "gridcolor": "white",
             "linecolor": "white",
             "minorgridcolor": "white",
             "startlinecolor": "#2a3f5f"
            },
            "baxis": {
             "endlinecolor": "#2a3f5f",
             "gridcolor": "white",
             "linecolor": "white",
             "minorgridcolor": "white",
             "startlinecolor": "#2a3f5f"
            },
            "type": "carpet"
           }
          ],
          "choropleth": [
           {
            "colorbar": {
             "outlinewidth": 0,
             "ticks": ""
            },
            "type": "choropleth"
           }
          ],
          "contour": [
           {
            "colorbar": {
             "outlinewidth": 0,
             "ticks": ""
            },
            "colorscale": [
             [
              0,
              "#0d0887"
             ],
             [
              0.1111111111111111,
              "#46039f"
             ],
             [
              0.2222222222222222,
              "#7201a8"
             ],
             [
              0.3333333333333333,
              "#9c179e"
             ],
             [
              0.4444444444444444,
              "#bd3786"
             ],
             [
              0.5555555555555556,
              "#d8576b"
             ],
             [
              0.6666666666666666,
              "#ed7953"
             ],
             [
              0.7777777777777778,
              "#fb9f3a"
             ],
             [
              0.8888888888888888,
              "#fdca26"
             ],
             [
              1,
              "#f0f921"
             ]
            ],
            "type": "contour"
           }
          ],
          "contourcarpet": [
           {
            "colorbar": {
             "outlinewidth": 0,
             "ticks": ""
            },
            "type": "contourcarpet"
           }
          ],
          "heatmap": [
           {
            "colorbar": {
             "outlinewidth": 0,
             "ticks": ""
            },
            "colorscale": [
             [
              0,
              "#0d0887"
             ],
             [
              0.1111111111111111,
              "#46039f"
             ],
             [
              0.2222222222222222,
              "#7201a8"
             ],
             [
              0.3333333333333333,
              "#9c179e"
             ],
             [
              0.4444444444444444,
              "#bd3786"
             ],
             [
              0.5555555555555556,
              "#d8576b"
             ],
             [
              0.6666666666666666,
              "#ed7953"
             ],
             [
              0.7777777777777778,
              "#fb9f3a"
             ],
             [
              0.8888888888888888,
              "#fdca26"
             ],
             [
              1,
              "#f0f921"
             ]
            ],
            "type": "heatmap"
           }
          ],
          "histogram": [
           {
            "marker": {
             "pattern": {
              "fillmode": "overlay",
              "size": 10,
              "solidity": 0.2
             }
            },
            "type": "histogram"
           }
          ],
          "histogram2d": [
           {
            "colorbar": {
             "outlinewidth": 0,
             "ticks": ""
            },
            "colorscale": [
             [
              0,
              "#0d0887"
             ],
             [
              0.1111111111111111,
              "#46039f"
             ],
             [
              0.2222222222222222,
              "#7201a8"
             ],
             [
              0.3333333333333333,
              "#9c179e"
             ],
             [
              0.4444444444444444,
              "#bd3786"
             ],
             [
              0.5555555555555556,
              "#d8576b"
             ],
             [
              0.6666666666666666,
              "#ed7953"
             ],
             [
              0.7777777777777778,
              "#fb9f3a"
             ],
             [
              0.8888888888888888,
              "#fdca26"
             ],
             [
              1,
              "#f0f921"
             ]
            ],
            "type": "histogram2d"
           }
          ],
          "histogram2dcontour": [
           {
            "colorbar": {
             "outlinewidth": 0,
             "ticks": ""
            },
            "colorscale": [
             [
              0,
              "#0d0887"
             ],
             [
              0.1111111111111111,
              "#46039f"
             ],
             [
              0.2222222222222222,
              "#7201a8"
             ],
             [
              0.3333333333333333,
              "#9c179e"
             ],
             [
              0.4444444444444444,
              "#bd3786"
             ],
             [
              0.5555555555555556,
              "#d8576b"
             ],
             [
              0.6666666666666666,
              "#ed7953"
             ],
             [
              0.7777777777777778,
              "#fb9f3a"
             ],
             [
              0.8888888888888888,
              "#fdca26"
             ],
             [
              1,
              "#f0f921"
             ]
            ],
            "type": "histogram2dcontour"
           }
          ],
          "mesh3d": [
           {
            "colorbar": {
             "outlinewidth": 0,
             "ticks": ""
            },
            "type": "mesh3d"
           }
          ],
          "parcoords": [
           {
            "line": {
             "colorbar": {
              "outlinewidth": 0,
              "ticks": ""
             }
            },
            "type": "parcoords"
           }
          ],
          "pie": [
           {
            "automargin": true,
            "type": "pie"
           }
          ],
          "scatter": [
           {
            "fillpattern": {
             "fillmode": "overlay",
             "size": 10,
             "solidity": 0.2
            },
            "type": "scatter"
           }
          ],
          "scatter3d": [
           {
            "line": {
             "colorbar": {
              "outlinewidth": 0,
              "ticks": ""
             }
            },
            "marker": {
             "colorbar": {
              "outlinewidth": 0,
              "ticks": ""
             }
            },
            "type": "scatter3d"
           }
          ],
          "scattercarpet": [
           {
            "marker": {
             "colorbar": {
              "outlinewidth": 0,
              "ticks": ""
             }
            },
            "type": "scattercarpet"
           }
          ],
          "scattergeo": [
           {
            "marker": {
             "colorbar": {
              "outlinewidth": 0,
              "ticks": ""
             }
            },
            "type": "scattergeo"
           }
          ],
          "scattergl": [
           {
            "marker": {
             "colorbar": {
              "outlinewidth": 0,
              "ticks": ""
             }
            },
            "type": "scattergl"
           }
          ],
          "scattermap": [
           {
            "marker": {
             "colorbar": {
              "outlinewidth": 0,
              "ticks": ""
             }
            },
            "type": "scattermap"
           }
          ],
          "scattermapbox": [
           {
            "marker": {
             "colorbar": {
              "outlinewidth": 0,
              "ticks": ""
             }
            },
            "type": "scattermapbox"
           }
          ],
          "scatterpolar": [
           {
            "marker": {
             "colorbar": {
              "outlinewidth": 0,
              "ticks": ""
             }
            },
            "type": "scatterpolar"
           }
          ],
          "scatterpolargl": [
           {
            "marker": {
             "colorbar": {
              "outlinewidth": 0,
              "ticks": ""
             }
            },
            "type": "scatterpolargl"
           }
          ],
          "scatterternary": [
           {
            "marker": {
             "colorbar": {
              "outlinewidth": 0,
              "ticks": ""
             }
            },
            "type": "scatterternary"
           }
          ],
          "surface": [
           {
            "colorbar": {
             "outlinewidth": 0,
             "ticks": ""
            },
            "colorscale": [
             [
              0,
              "#0d0887"
             ],
             [
              0.1111111111111111,
              "#46039f"
             ],
             [
              0.2222222222222222,
              "#7201a8"
             ],
             [
              0.3333333333333333,
              "#9c179e"
             ],
             [
              0.4444444444444444,
              "#bd3786"
             ],
             [
              0.5555555555555556,
              "#d8576b"
             ],
             [
              0.6666666666666666,
              "#ed7953"
             ],
             [
              0.7777777777777778,
              "#fb9f3a"
             ],
             [
              0.8888888888888888,
              "#fdca26"
             ],
             [
              1,
              "#f0f921"
             ]
            ],
            "type": "surface"
           }
          ],
          "table": [
           {
            "cells": {
             "fill": {
              "color": "#EBF0F8"
             },
             "line": {
              "color": "white"
             }
            },
            "header": {
             "fill": {
              "color": "#C8D4E3"
             },
             "line": {
              "color": "white"
             }
            },
            "type": "table"
           }
          ]
         },
         "layout": {
          "annotationdefaults": {
           "arrowcolor": "#2a3f5f",
           "arrowhead": 0,
           "arrowwidth": 1
          },
          "autotypenumbers": "strict",
          "coloraxis": {
           "colorbar": {
            "outlinewidth": 0,
            "ticks": ""
           }
          },
          "colorscale": {
           "diverging": [
            [
             0,
             "#8e0152"
            ],
            [
             0.1,
             "#c51b7d"
            ],
            [
             0.2,
             "#de77ae"
            ],
            [
             0.3,
             "#f1b6da"
            ],
            [
             0.4,
             "#fde0ef"
            ],
            [
             0.5,
             "#f7f7f7"
            ],
            [
             0.6,
             "#e6f5d0"
            ],
            [
             0.7,
             "#b8e186"
            ],
            [
             0.8,
             "#7fbc41"
            ],
            [
             0.9,
             "#4d9221"
            ],
            [
             1,
             "#276419"
            ]
           ],
           "sequential": [
            [
             0,
             "#0d0887"
            ],
            [
             0.1111111111111111,
             "#46039f"
            ],
            [
             0.2222222222222222,
             "#7201a8"
            ],
            [
             0.3333333333333333,
             "#9c179e"
            ],
            [
             0.4444444444444444,
             "#bd3786"
            ],
            [
             0.5555555555555556,
             "#d8576b"
            ],
            [
             0.6666666666666666,
             "#ed7953"
            ],
            [
             0.7777777777777778,
             "#fb9f3a"
            ],
            [
             0.8888888888888888,
             "#fdca26"
            ],
            [
             1,
             "#f0f921"
            ]
           ],
           "sequentialminus": [
            [
             0,
             "#0d0887"
            ],
            [
             0.1111111111111111,
             "#46039f"
            ],
            [
             0.2222222222222222,
             "#7201a8"
            ],
            [
             0.3333333333333333,
             "#9c179e"
            ],
            [
             0.4444444444444444,
             "#bd3786"
            ],
            [
             0.5555555555555556,
             "#d8576b"
            ],
            [
             0.6666666666666666,
             "#ed7953"
            ],
            [
             0.7777777777777778,
             "#fb9f3a"
            ],
            [
             0.8888888888888888,
             "#fdca26"
            ],
            [
             1,
             "#f0f921"
            ]
           ]
          },
          "colorway": [
           "#636efa",
           "#EF553B",
           "#00cc96",
           "#ab63fa",
           "#FFA15A",
           "#19d3f3",
           "#FF6692",
           "#B6E880",
           "#FF97FF",
           "#FECB52"
          ],
          "font": {
           "color": "#2a3f5f"
          },
          "geo": {
           "bgcolor": "white",
           "lakecolor": "white",
           "landcolor": "#E5ECF6",
           "showlakes": true,
           "showland": true,
           "subunitcolor": "white"
          },
          "hoverlabel": {
           "align": "left"
          },
          "hovermode": "closest",
          "mapbox": {
           "style": "light"
          },
          "paper_bgcolor": "white",
          "plot_bgcolor": "#E5ECF6",
          "polar": {
           "angularaxis": {
            "gridcolor": "white",
            "linecolor": "white",
            "ticks": ""
           },
           "bgcolor": "#E5ECF6",
           "radialaxis": {
            "gridcolor": "white",
            "linecolor": "white",
            "ticks": ""
           }
          },
          "scene": {
           "xaxis": {
            "backgroundcolor": "#E5ECF6",
            "gridcolor": "white",
            "gridwidth": 2,
            "linecolor": "white",
            "showbackground": true,
            "ticks": "",
            "zerolinecolor": "white"
           },
           "yaxis": {
            "backgroundcolor": "#E5ECF6",
            "gridcolor": "white",
            "gridwidth": 2,
            "linecolor": "white",
            "showbackground": true,
            "ticks": "",
            "zerolinecolor": "white"
           },
           "zaxis": {
            "backgroundcolor": "#E5ECF6",
            "gridcolor": "white",
            "gridwidth": 2,
            "linecolor": "white",
            "showbackground": true,
            "ticks": "",
            "zerolinecolor": "white"
           }
          },
          "shapedefaults": {
           "line": {
            "color": "#2a3f5f"
           }
          },
          "ternary": {
           "aaxis": {
            "gridcolor": "white",
            "linecolor": "white",
            "ticks": ""
           },
           "baxis": {
            "gridcolor": "white",
            "linecolor": "white",
            "ticks": ""
           },
           "bgcolor": "#E5ECF6",
           "caxis": {
            "gridcolor": "white",
            "linecolor": "white",
            "ticks": ""
           }
          },
          "title": {
           "x": 0.05
          },
          "xaxis": {
           "automargin": true,
           "gridcolor": "white",
           "linecolor": "white",
           "ticks": "",
           "title": {
            "standoff": 15
           },
           "zerolinecolor": "white",
           "zerolinewidth": 2
          },
          "yaxis": {
           "automargin": true,
           "gridcolor": "white",
           "linecolor": "white",
           "ticks": "",
           "title": {
            "standoff": 15
           },
           "zerolinecolor": "white",
           "zerolinewidth": 2
          }
         }
        },
        "title": {
         "text": "Perbandingan Gender Keseluruhan"
        }
       }
      }
     },
     "metadata": {},
     "output_type": "display_data"
    }
   ],
   "source": [
    "fig = px.pie(df, names='Keterangan', title='Perbandingan Gender Keseluruhan')\n",
    "fig.show()"
   ]
  },
  {
   "cell_type": "code",
   "execution_count": 15,
   "id": "fc600740",
   "metadata": {},
   "outputs": [
    {
     "data": {
      "application/vnd.plotly.v1+json": {
       "config": {
        "plotlyServerURL": "https://plot.ly"
       },
       "data": [
        {
         "alignmentgroup": "True",
         "hovertemplate": "Keterangan=Akhwat<br>Fakultas=%{x}<br>count=%{y}<extra></extra>",
         "legendgroup": "Akhwat",
         "marker": {
          "color": "#636efa",
          "pattern": {
           "shape": ""
          }
         },
         "name": "Akhwat",
         "offsetgroup": "Akhwat",
         "orientation": "v",
         "showlegend": true,
         "textposition": "auto",
         "type": "bar",
         "x": [
          "Fakultas Keguruan & Ilmu Pendidikan",
          "Fakultas Keguruan & Ilmu Pendidikan",
          "Fakultas Keguruan & Ilmu Pendidikan",
          "Fakultas Keguruan & Ilmu Pendidikan",
          "Fakultas Keguruan & Ilmu Pendidikan",
          "Fakultas Keguruan & Ilmu Pendidikan",
          "Fakultas Keguruan & Ilmu Pendidikan",
          "Fakultas Keguruan & Ilmu Pendidikan",
          "Fakultas Keguruan & Ilmu Pendidikan",
          "Fakultas Keguruan & Ilmu Pendidikan",
          "Fakultas Keguruan & Ilmu Pendidikan",
          "Fakultas Keguruan & Ilmu Pendidikan",
          "Fakultas Keguruan & Ilmu Pendidikan",
          "Fakultas Keguruan & Ilmu Pendidikan",
          "Fakultas Keguruan & Ilmu Pendidikan",
          "Fakultas Keguruan & Ilmu Pendidikan",
          "Fakultas Ekonomi & Bisnis",
          "Fakultas Ekonomi & Bisnis",
          "Fakultas Ekonomi & Bisnis",
          "Fakultas Ekonomi & Bisnis",
          "Fakultas Ekonomi & Bisnis",
          "Fakultas Ekonomi & Bisnis",
          "Fakultas Ekonomi & Bisnis",
          "Fakultas Ekonomi & Bisnis",
          "Fakultas Ekonomi & Bisnis",
          "Fakultas Ekonomi & Bisnis",
          "Fakultas Ekonomi & Bisnis",
          "Fakultas Ekonomi & Bisnis",
          "Fakultas Ekonomi & Bisnis",
          "Fakultas Ekonomi & Bisnis",
          "Fakultas Ekonomi & Bisnis",
          "Fakultas Hukum & Ilmu Politik",
          "Fakultas Hukum & Ilmu Politik",
          "Fakultas Hukum & Ilmu Politik",
          "Fakultas Psikologi",
          "Fakultas Psikologi",
          "Fakultas Psikologi",
          "Fakultas Psikologi",
          "Fakultas Psikologi",
          "Fakultas Psikologi",
          "Fakultas Psikologi",
          "Fakultas Agama Islam",
          "Fakultas Agama Islam",
          "Fakultas Agama Islam",
          "Fakultas Agama Islam",
          "Fakultas Agama Islam",
          "Fakultas Agama Islam",
          "Fakultas Agama Islam",
          "Fakultas Agama Islam",
          "Fakultas Agama Islam",
          "Fakultas Agama Islam",
          "Fakultas Agama Islam",
          "Fakultas Agama Islam",
          "Fakultas Agama Islam",
          "Fakultas Agama Islam",
          "Fakultas Agama Islam",
          "Fakultas Agama Islam",
          "Fakultas Agama Islam",
          "Fakultas Agama Islam",
          "Fakultas Agama Islam",
          "Fakultas Agama Islam",
          "Fakultas Agama Islam",
          "Fakultas Agama Islam",
          "Fakultas Agama Islam",
          "Fakultas Agama Islam",
          "Fakultas Agama Islam",
          "Fakultas Agama Islam",
          "Fakultas Agama Islam",
          "Fakultas Agama Islam",
          "Fakultas Agama Islam",
          "Fakultas Agama Islam",
          "Fakultas Agama Islam",
          "Fakultas Agama Islam",
          "Fakultas Agama Islam",
          "Fakultas Agama Islam",
          "Fakultas Agama Islam",
          "Fakultas Agama Islam",
          "Fakultas Agama Islam",
          "Fakultas Agama Islam",
          "Fakultas Ilmu Keperawatan",
          "Fakultas Ilmu Keperawatan",
          "Fakultas Ilmu Keperawatan",
          "Fakultas Ilmu Keperawatan",
          "Fakultas Ilmu Keperawatan",
          "Fakultas Ilmu Keperawatan",
          "Fakultas Ilmu Keperawatan",
          "Fakultas Ilmu Keperawatan",
          "Fakultas Ilmu Keperawatan",
          "Fakultas Ilmu Keperawatan",
          "Fakultas Ilmu Keperawatan",
          "Fakultas Ilmu Keperawatan",
          "Fakultas Kedokteran Gigi",
          "Fakultas Kedokteran Gigi",
          "Fakultas Kedokteran Gigi",
          "Fakultas Kedokteran Gigi",
          "Fakultas Kedokteran Gigi",
          "Fakultas Kedokteran Gigi",
          "Fakultas Kedokteran Gigi",
          "Fakultas Kedokteran Gigi",
          "Fakultas Farmasi",
          "Fakultas Farmasi",
          "Fakultas Farmasi",
          "Fakultas Farmasi",
          "Fakultas Farmasi",
          "Fakultas Farmasi",
          "Fakultas Komunikasi & Informatika",
          "Fakultas Komunikasi & Informatika",
          "Fakultas Komunikasi & Informatika",
          "Fakultas Komunikasi & Informatika",
          "Fakultas Komunikasi & Informatika",
          "Fakultas Keguruan & Ilmu Pendidikan",
          "Fakultas Keguruan & Ilmu Pendidikan",
          "Fakultas Keguruan & Ilmu Pendidikan",
          "Fakultas Keguruan & Ilmu Pendidikan",
          "Fakultas Keguruan & Ilmu Pendidikan",
          "Fakultas Keguruan & Ilmu Pendidikan",
          "Fakultas Keguruan & Ilmu Pendidikan",
          "Fakultas Keguruan & Ilmu Pendidikan",
          "Fakultas Keguruan & Ilmu Pendidikan",
          "Fakultas Keguruan & Ilmu Pendidikan",
          "Fakultas Ekonomi & Bisnis",
          "Fakultas Ekonomi & Bisnis",
          "Fakultas Hukum & Ilmu Politik",
          "Fakultas Teknik",
          "Fakultas Teknik",
          "Fakultas Psikologi",
          "Fakultas Psikologi",
          "Fakultas Psikologi",
          "Fakultas Psikologi",
          "Fakultas Psikologi",
          "Fakultas Psikologi",
          "Fakultas Psikologi",
          "Fakultas Agama Islam",
          "Fakultas Agama Islam",
          "Fakultas Agama Islam",
          "Fakultas Agama Islam",
          "Fakultas Agama Islam",
          "Fakultas Agama Islam",
          "Fakultas Agama Islam",
          "Fakultas Agama Islam",
          "Fakultas Agama Islam",
          "Fakultas Ilmu Keperawatan",
          "Fakultas Ilmu Keperawatan",
          "Fakultas Ilmu Keperawatan",
          "Fakultas Ilmu Keperawatan",
          "Fakultas Ilmu Keperawatan",
          "Fakultas Ilmu Keperawatan",
          "Fakultas Kedokteran",
          "Fakultas Kedokteran Gigi",
          "Fakultas Farmasi",
          "Fakultas Komunikasi & Informatika",
          "Fakultas Komunikasi & Informatika",
          "Fakultas Komunikasi & Informatika",
          "Fakultas Komunikasi & Informatika",
          "Fakultas Komunikasi & Informatika",
          "Fakultas Keguruan & Ilmu Pendidikan",
          "Fakultas Keguruan & Ilmu Pendidikan",
          "Fakultas Keguruan & Ilmu Pendidikan",
          "Fakultas Keguruan & Ilmu Pendidikan",
          "Fakultas Keguruan & Ilmu Pendidikan",
          "Fakultas Ekonomi & Bisnis",
          "Fakultas Ekonomi & Bisnis",
          "Fakultas Ekonomi & Bisnis",
          "Fakultas Ekonomi & Bisnis",
          "Fakultas Psikologi",
          "Fakultas Psikologi",
          "Fakultas Psikologi",
          "Fakultas Psikologi",
          "Fakultas Psikologi",
          "Fakultas Psikologi",
          "Fakultas Psikologi",
          "Fakultas Agama Islam",
          "Fakultas Agama Islam",
          "Fakultas Agama Islam",
          "Fakultas Agama Islam",
          "Fakultas Agama Islam",
          "Fakultas Agama Islam",
          "Fakultas Ilmu Keperawatan",
          "Fakultas Ilmu Keperawatan",
          "Fakultas Ilmu Keperawatan",
          "Fakultas Ilmu Keperawatan",
          "Fakultas Ilmu Keperawatan",
          "Fakultas Ilmu Keperawatan",
          "Fakultas Ilmu Keperawatan",
          "Fakultas Kedokteran Gigi",
          "Fakultas Farmasi",
          "Fakultas Farmasi",
          "Fakultas Farmasi",
          "Fakultas Farmasi",
          "Fakultas Komunikasi & Informatika",
          "Fakultas Komunikasi & Informatika",
          "Fakultas Komunikasi & Informatika",
          "Fakultas Komunikasi & Informatika"
         ],
         "xaxis": "x",
         "y": {
          "bdata": "AQEBAQEBAQEBAQEBAQEBAQEBAQEBAQEBAQEBAQEBAQEBAQEBAQEBAQEBAQEBAQEBAQEBAQEBAQEBAQEBAQEBAQEBAQEBAQEBAQEBAQEBAQEBAQEBAQEBAQEBAQEBAQEBAQEBAQEBAQEBAQEBAQEBAQEBAQEBAQEBAQEBAQEBAQEBAQEBAQEBAQEBAQEBAQEBAQEBAQEBAQEBAQEBAQEBAQEBAQEBAQEBAQEBAQEBAQEBAQEBAQEBAQEBAQEBAQEBAQ==",
          "dtype": "i1"
         },
         "yaxis": "y"
        },
        {
         "alignmentgroup": "True",
         "hovertemplate": "Keterangan=Ikhwan<br>Fakultas=%{x}<br>count=%{y}<extra></extra>",
         "legendgroup": "Ikhwan",
         "marker": {
          "color": "#EF553B",
          "pattern": {
           "shape": ""
          }
         },
         "name": "Ikhwan",
         "offsetgroup": "Ikhwan",
         "orientation": "v",
         "showlegend": true,
         "textposition": "auto",
         "type": "bar",
         "x": [
          "Fakultas Keguruan & Ilmu Pendidikan",
          "Fakultas Keguruan & Ilmu Pendidikan",
          "Fakultas Keguruan & Ilmu Pendidikan",
          "Fakultas Ekonomi & Bisnis",
          "Fakultas Ekonomi & Bisnis",
          "Fakultas Ekonomi & Bisnis",
          "Fakultas Ekonomi & Bisnis",
          "Fakultas Ekonomi & Bisnis",
          "Fakultas Ekonomi & Bisnis",
          "Fakultas Ekonomi & Bisnis",
          "Fakultas Ekonomi & Bisnis",
          "Fakultas Ekonomi & Bisnis",
          "Fakultas Ekonomi & Bisnis",
          "Fakultas Ekonomi & Bisnis",
          "Fakultas Ekonomi & Bisnis",
          "Fakultas Ekonomi & Bisnis",
          "Fakultas Hukum & Ilmu Politik",
          "Fakultas Hukum & Ilmu Politik",
          "Fakultas Teknik",
          "Fakultas Teknik",
          "Fakultas Teknik",
          "Fakultas Teknik",
          "Fakultas Teknik",
          "Fakultas Agama Islam",
          "Fakultas Agama Islam",
          "Fakultas Agama Islam",
          "Fakultas Agama Islam",
          "Fakultas Agama Islam",
          "Fakultas Agama Islam",
          "Fakultas Agama Islam",
          "Fakultas Agama Islam",
          "Fakultas Agama Islam",
          "Fakultas Agama Islam",
          "Fakultas Agama Islam",
          "Fakultas Agama Islam",
          "Fakultas Agama Islam",
          "Fakultas Agama Islam",
          "Fakultas Agama Islam",
          "Fakultas Agama Islam",
          "Fakultas Agama Islam",
          "Fakultas Agama Islam",
          "Fakultas Agama Islam",
          "Fakultas Agama Islam",
          "Fakultas Agama Islam",
          "Fakultas Agama Islam",
          "Fakultas Agama Islam",
          "Fakultas Agama Islam",
          "Fakultas Agama Islam",
          "Fakultas Agama Islam",
          "Fakultas Agama Islam",
          "Fakultas Agama Islam",
          "Fakultas Agama Islam",
          "Fakultas Agama Islam",
          "Fakultas Agama Islam",
          "Fakultas Agama Islam",
          "Fakultas Agama Islam",
          "Fakultas Agama Islam",
          "Fakultas Agama Islam",
          "Fakultas Agama Islam",
          "Fakultas Agama Islam",
          "Fakultas Agama Islam",
          "Fakultas Agama Islam",
          "Fakultas Agama Islam",
          "Fakultas Ilmu Keperawatan",
          "Fakultas Ilmu Keperawatan",
          "Fakultas Ilmu Keperawatan",
          "Fakultas Ilmu Keperawatan",
          "Fakultas Ilmu Keperawatan",
          "Fakultas Ilmu Keperawatan",
          "Fakultas Komunikasi & Informatika",
          "Fakultas Komunikasi & Informatika",
          "Fakultas Komunikasi & Informatika",
          "Fakultas Komunikasi & Informatika",
          "Fakultas Komunikasi & Informatika",
          "Fakultas Keguruan & Ilmu Pendidikan",
          "Fakultas Ekonomi & Bisnis",
          "Fakultas Ekonomi & Bisnis",
          "Fakultas Ekonomi & Bisnis",
          "Fakultas Teknik",
          "Fakultas Agama Islam",
          "Fakultas Agama Islam",
          "Fakultas Agama Islam",
          "Fakultas Agama Islam",
          "Fakultas Agama Islam",
          "Fakultas Agama Islam",
          "Fakultas Agama Islam",
          "Fakultas Agama Islam",
          "Fakultas Agama Islam",
          "Fakultas Agama Islam",
          "Fakultas Agama Islam",
          "Fakultas Agama Islam",
          "Fakultas Farmasi",
          "Fakultas Komunikasi & Informatika",
          "Fakultas Komunikasi & Informatika",
          "Fakultas Ekonomi & Bisnis",
          "Fakultas Ekonomi & Bisnis",
          "Fakultas Ekonomi & Bisnis",
          "Fakultas Teknik",
          "Fakultas Teknik",
          "Fakultas Geografi",
          "Fakultas Agama Islam",
          "Fakultas Agama Islam",
          "Fakultas Agama Islam",
          "Fakultas Agama Islam",
          "Fakultas Agama Islam",
          "Fakultas Agama Islam",
          "Fakultas Agama Islam",
          "Fakultas Agama Islam",
          "Fakultas Agama Islam",
          "Fakultas Ilmu Keperawatan",
          "Fakultas Komunikasi & Informatika",
          "Fakultas Komunikasi & Informatika",
          "Fakultas Komunikasi & Informatika"
         ],
         "xaxis": "x",
         "y": {
          "bdata": "AQEBAQEBAQEBAQEBAQEBAQEBAQEBAQEBAQEBAQEBAQEBAQEBAQEBAQEBAQEBAQEBAQEBAQEBAQEBAQEBAQEBAQEBAQEBAQEBAQEBAQEBAQEBAQEBAQEBAQEBAQEBAQEBAQEBAQEBAQEBAQEBAQEBAQE=",
          "dtype": "i1"
         },
         "yaxis": "y"
        }
       ],
       "layout": {
        "barmode": "group",
        "legend": {
         "title": {
          "text": "Keterangan"
         },
         "tracegroupgap": 0
        },
        "template": {
         "data": {
          "bar": [
           {
            "error_x": {
             "color": "#2a3f5f"
            },
            "error_y": {
             "color": "#2a3f5f"
            },
            "marker": {
             "line": {
              "color": "#E5ECF6",
              "width": 0.5
             },
             "pattern": {
              "fillmode": "overlay",
              "size": 10,
              "solidity": 0.2
             }
            },
            "type": "bar"
           }
          ],
          "barpolar": [
           {
            "marker": {
             "line": {
              "color": "#E5ECF6",
              "width": 0.5
             },
             "pattern": {
              "fillmode": "overlay",
              "size": 10,
              "solidity": 0.2
             }
            },
            "type": "barpolar"
           }
          ],
          "carpet": [
           {
            "aaxis": {
             "endlinecolor": "#2a3f5f",
             "gridcolor": "white",
             "linecolor": "white",
             "minorgridcolor": "white",
             "startlinecolor": "#2a3f5f"
            },
            "baxis": {
             "endlinecolor": "#2a3f5f",
             "gridcolor": "white",
             "linecolor": "white",
             "minorgridcolor": "white",
             "startlinecolor": "#2a3f5f"
            },
            "type": "carpet"
           }
          ],
          "choropleth": [
           {
            "colorbar": {
             "outlinewidth": 0,
             "ticks": ""
            },
            "type": "choropleth"
           }
          ],
          "contour": [
           {
            "colorbar": {
             "outlinewidth": 0,
             "ticks": ""
            },
            "colorscale": [
             [
              0,
              "#0d0887"
             ],
             [
              0.1111111111111111,
              "#46039f"
             ],
             [
              0.2222222222222222,
              "#7201a8"
             ],
             [
              0.3333333333333333,
              "#9c179e"
             ],
             [
              0.4444444444444444,
              "#bd3786"
             ],
             [
              0.5555555555555556,
              "#d8576b"
             ],
             [
              0.6666666666666666,
              "#ed7953"
             ],
             [
              0.7777777777777778,
              "#fb9f3a"
             ],
             [
              0.8888888888888888,
              "#fdca26"
             ],
             [
              1,
              "#f0f921"
             ]
            ],
            "type": "contour"
           }
          ],
          "contourcarpet": [
           {
            "colorbar": {
             "outlinewidth": 0,
             "ticks": ""
            },
            "type": "contourcarpet"
           }
          ],
          "heatmap": [
           {
            "colorbar": {
             "outlinewidth": 0,
             "ticks": ""
            },
            "colorscale": [
             [
              0,
              "#0d0887"
             ],
             [
              0.1111111111111111,
              "#46039f"
             ],
             [
              0.2222222222222222,
              "#7201a8"
             ],
             [
              0.3333333333333333,
              "#9c179e"
             ],
             [
              0.4444444444444444,
              "#bd3786"
             ],
             [
              0.5555555555555556,
              "#d8576b"
             ],
             [
              0.6666666666666666,
              "#ed7953"
             ],
             [
              0.7777777777777778,
              "#fb9f3a"
             ],
             [
              0.8888888888888888,
              "#fdca26"
             ],
             [
              1,
              "#f0f921"
             ]
            ],
            "type": "heatmap"
           }
          ],
          "histogram": [
           {
            "marker": {
             "pattern": {
              "fillmode": "overlay",
              "size": 10,
              "solidity": 0.2
             }
            },
            "type": "histogram"
           }
          ],
          "histogram2d": [
           {
            "colorbar": {
             "outlinewidth": 0,
             "ticks": ""
            },
            "colorscale": [
             [
              0,
              "#0d0887"
             ],
             [
              0.1111111111111111,
              "#46039f"
             ],
             [
              0.2222222222222222,
              "#7201a8"
             ],
             [
              0.3333333333333333,
              "#9c179e"
             ],
             [
              0.4444444444444444,
              "#bd3786"
             ],
             [
              0.5555555555555556,
              "#d8576b"
             ],
             [
              0.6666666666666666,
              "#ed7953"
             ],
             [
              0.7777777777777778,
              "#fb9f3a"
             ],
             [
              0.8888888888888888,
              "#fdca26"
             ],
             [
              1,
              "#f0f921"
             ]
            ],
            "type": "histogram2d"
           }
          ],
          "histogram2dcontour": [
           {
            "colorbar": {
             "outlinewidth": 0,
             "ticks": ""
            },
            "colorscale": [
             [
              0,
              "#0d0887"
             ],
             [
              0.1111111111111111,
              "#46039f"
             ],
             [
              0.2222222222222222,
              "#7201a8"
             ],
             [
              0.3333333333333333,
              "#9c179e"
             ],
             [
              0.4444444444444444,
              "#bd3786"
             ],
             [
              0.5555555555555556,
              "#d8576b"
             ],
             [
              0.6666666666666666,
              "#ed7953"
             ],
             [
              0.7777777777777778,
              "#fb9f3a"
             ],
             [
              0.8888888888888888,
              "#fdca26"
             ],
             [
              1,
              "#f0f921"
             ]
            ],
            "type": "histogram2dcontour"
           }
          ],
          "mesh3d": [
           {
            "colorbar": {
             "outlinewidth": 0,
             "ticks": ""
            },
            "type": "mesh3d"
           }
          ],
          "parcoords": [
           {
            "line": {
             "colorbar": {
              "outlinewidth": 0,
              "ticks": ""
             }
            },
            "type": "parcoords"
           }
          ],
          "pie": [
           {
            "automargin": true,
            "type": "pie"
           }
          ],
          "scatter": [
           {
            "fillpattern": {
             "fillmode": "overlay",
             "size": 10,
             "solidity": 0.2
            },
            "type": "scatter"
           }
          ],
          "scatter3d": [
           {
            "line": {
             "colorbar": {
              "outlinewidth": 0,
              "ticks": ""
             }
            },
            "marker": {
             "colorbar": {
              "outlinewidth": 0,
              "ticks": ""
             }
            },
            "type": "scatter3d"
           }
          ],
          "scattercarpet": [
           {
            "marker": {
             "colorbar": {
              "outlinewidth": 0,
              "ticks": ""
             }
            },
            "type": "scattercarpet"
           }
          ],
          "scattergeo": [
           {
            "marker": {
             "colorbar": {
              "outlinewidth": 0,
              "ticks": ""
             }
            },
            "type": "scattergeo"
           }
          ],
          "scattergl": [
           {
            "marker": {
             "colorbar": {
              "outlinewidth": 0,
              "ticks": ""
             }
            },
            "type": "scattergl"
           }
          ],
          "scattermap": [
           {
            "marker": {
             "colorbar": {
              "outlinewidth": 0,
              "ticks": ""
             }
            },
            "type": "scattermap"
           }
          ],
          "scattermapbox": [
           {
            "marker": {
             "colorbar": {
              "outlinewidth": 0,
              "ticks": ""
             }
            },
            "type": "scattermapbox"
           }
          ],
          "scatterpolar": [
           {
            "marker": {
             "colorbar": {
              "outlinewidth": 0,
              "ticks": ""
             }
            },
            "type": "scatterpolar"
           }
          ],
          "scatterpolargl": [
           {
            "marker": {
             "colorbar": {
              "outlinewidth": 0,
              "ticks": ""
             }
            },
            "type": "scatterpolargl"
           }
          ],
          "scatterternary": [
           {
            "marker": {
             "colorbar": {
              "outlinewidth": 0,
              "ticks": ""
             }
            },
            "type": "scatterternary"
           }
          ],
          "surface": [
           {
            "colorbar": {
             "outlinewidth": 0,
             "ticks": ""
            },
            "colorscale": [
             [
              0,
              "#0d0887"
             ],
             [
              0.1111111111111111,
              "#46039f"
             ],
             [
              0.2222222222222222,
              "#7201a8"
             ],
             [
              0.3333333333333333,
              "#9c179e"
             ],
             [
              0.4444444444444444,
              "#bd3786"
             ],
             [
              0.5555555555555556,
              "#d8576b"
             ],
             [
              0.6666666666666666,
              "#ed7953"
             ],
             [
              0.7777777777777778,
              "#fb9f3a"
             ],
             [
              0.8888888888888888,
              "#fdca26"
             ],
             [
              1,
              "#f0f921"
             ]
            ],
            "type": "surface"
           }
          ],
          "table": [
           {
            "cells": {
             "fill": {
              "color": "#EBF0F8"
             },
             "line": {
              "color": "white"
             }
            },
            "header": {
             "fill": {
              "color": "#C8D4E3"
             },
             "line": {
              "color": "white"
             }
            },
            "type": "table"
           }
          ]
         },
         "layout": {
          "annotationdefaults": {
           "arrowcolor": "#2a3f5f",
           "arrowhead": 0,
           "arrowwidth": 1
          },
          "autotypenumbers": "strict",
          "coloraxis": {
           "colorbar": {
            "outlinewidth": 0,
            "ticks": ""
           }
          },
          "colorscale": {
           "diverging": [
            [
             0,
             "#8e0152"
            ],
            [
             0.1,
             "#c51b7d"
            ],
            [
             0.2,
             "#de77ae"
            ],
            [
             0.3,
             "#f1b6da"
            ],
            [
             0.4,
             "#fde0ef"
            ],
            [
             0.5,
             "#f7f7f7"
            ],
            [
             0.6,
             "#e6f5d0"
            ],
            [
             0.7,
             "#b8e186"
            ],
            [
             0.8,
             "#7fbc41"
            ],
            [
             0.9,
             "#4d9221"
            ],
            [
             1,
             "#276419"
            ]
           ],
           "sequential": [
            [
             0,
             "#0d0887"
            ],
            [
             0.1111111111111111,
             "#46039f"
            ],
            [
             0.2222222222222222,
             "#7201a8"
            ],
            [
             0.3333333333333333,
             "#9c179e"
            ],
            [
             0.4444444444444444,
             "#bd3786"
            ],
            [
             0.5555555555555556,
             "#d8576b"
            ],
            [
             0.6666666666666666,
             "#ed7953"
            ],
            [
             0.7777777777777778,
             "#fb9f3a"
            ],
            [
             0.8888888888888888,
             "#fdca26"
            ],
            [
             1,
             "#f0f921"
            ]
           ],
           "sequentialminus": [
            [
             0,
             "#0d0887"
            ],
            [
             0.1111111111111111,
             "#46039f"
            ],
            [
             0.2222222222222222,
             "#7201a8"
            ],
            [
             0.3333333333333333,
             "#9c179e"
            ],
            [
             0.4444444444444444,
             "#bd3786"
            ],
            [
             0.5555555555555556,
             "#d8576b"
            ],
            [
             0.6666666666666666,
             "#ed7953"
            ],
            [
             0.7777777777777778,
             "#fb9f3a"
            ],
            [
             0.8888888888888888,
             "#fdca26"
            ],
            [
             1,
             "#f0f921"
            ]
           ]
          },
          "colorway": [
           "#636efa",
           "#EF553B",
           "#00cc96",
           "#ab63fa",
           "#FFA15A",
           "#19d3f3",
           "#FF6692",
           "#B6E880",
           "#FF97FF",
           "#FECB52"
          ],
          "font": {
           "color": "#2a3f5f"
          },
          "geo": {
           "bgcolor": "white",
           "lakecolor": "white",
           "landcolor": "#E5ECF6",
           "showlakes": true,
           "showland": true,
           "subunitcolor": "white"
          },
          "hoverlabel": {
           "align": "left"
          },
          "hovermode": "closest",
          "mapbox": {
           "style": "light"
          },
          "paper_bgcolor": "white",
          "plot_bgcolor": "#E5ECF6",
          "polar": {
           "angularaxis": {
            "gridcolor": "white",
            "linecolor": "white",
            "ticks": ""
           },
           "bgcolor": "#E5ECF6",
           "radialaxis": {
            "gridcolor": "white",
            "linecolor": "white",
            "ticks": ""
           }
          },
          "scene": {
           "xaxis": {
            "backgroundcolor": "#E5ECF6",
            "gridcolor": "white",
            "gridwidth": 2,
            "linecolor": "white",
            "showbackground": true,
            "ticks": "",
            "zerolinecolor": "white"
           },
           "yaxis": {
            "backgroundcolor": "#E5ECF6",
            "gridcolor": "white",
            "gridwidth": 2,
            "linecolor": "white",
            "showbackground": true,
            "ticks": "",
            "zerolinecolor": "white"
           },
           "zaxis": {
            "backgroundcolor": "#E5ECF6",
            "gridcolor": "white",
            "gridwidth": 2,
            "linecolor": "white",
            "showbackground": true,
            "ticks": "",
            "zerolinecolor": "white"
           }
          },
          "shapedefaults": {
           "line": {
            "color": "#2a3f5f"
           }
          },
          "ternary": {
           "aaxis": {
            "gridcolor": "white",
            "linecolor": "white",
            "ticks": ""
           },
           "baxis": {
            "gridcolor": "white",
            "linecolor": "white",
            "ticks": ""
           },
           "bgcolor": "#E5ECF6",
           "caxis": {
            "gridcolor": "white",
            "linecolor": "white",
            "ticks": ""
           }
          },
          "title": {
           "x": 0.05
          },
          "xaxis": {
           "automargin": true,
           "gridcolor": "white",
           "linecolor": "white",
           "ticks": "",
           "title": {
            "standoff": 15
           },
           "zerolinecolor": "white",
           "zerolinewidth": 2
          },
          "yaxis": {
           "automargin": true,
           "gridcolor": "white",
           "linecolor": "white",
           "ticks": "",
           "title": {
            "standoff": 15
           },
           "zerolinecolor": "white",
           "zerolinewidth": 2
          }
         }
        },
        "title": {
         "text": "Distribusi Gender per Fakultas"
        },
        "xaxis": {
         "anchor": "y",
         "domain": [
          0,
          1
         ],
         "title": {
          "text": ""
         }
        },
        "yaxis": {
         "anchor": "x",
         "domain": [
          0,
          1
         ],
         "title": {
          "text": "Jumlah Mahasiswa"
         }
        }
       }
      }
     },
     "metadata": {},
     "output_type": "display_data"
    }
   ],
   "source": [
    "fig = px.bar(df, x='Fakultas', color='Keterangan',\n",
    "             title='Distribusi Gender per Fakultas',\n",
    "             barmode='group')\n",
    "fig.update_layout(xaxis_title='', yaxis_title='Jumlah Mahasiswa')\n",
    "fig.show()\n"
   ]
  },
  {
   "cell_type": "code",
   "execution_count": 16,
   "id": "0671f5dd",
   "metadata": {},
   "outputs": [
    {
     "data": {
      "application/vnd.plotly.v1+json": {
       "config": {
        "plotlyServerURL": "https://plot.ly"
       },
       "data": [
        {
         "hovertemplate": "Fakultas=%{x}<br>Hafalan=%{y}<extra></extra>",
         "legendgroup": "Fakultas Agama Islam",
         "marker": {
          "color": "#636efa",
          "pattern": {
           "shape": ""
          }
         },
         "name": "Fakultas Agama Islam",
         "orientation": "v",
         "showlegend": true,
         "textposition": "auto",
         "texttemplate": "%{y}",
         "type": "bar",
         "x": [
          "Fakultas Agama Islam"
         ],
         "xaxis": "x",
         "y": {
          "bdata": "YzqL6SymJkA=",
          "dtype": "f8"
         },
         "yaxis": "y"
        },
        {
         "hovertemplate": "Fakultas=%{x}<br>Hafalan=%{y}<extra></extra>",
         "legendgroup": "Fakultas Ekonomi & Bisnis",
         "marker": {
          "color": "#EF553B",
          "pattern": {
           "shape": ""
          }
         },
         "name": "Fakultas Ekonomi & Bisnis",
         "orientation": "v",
         "showlegend": true,
         "textposition": "auto",
         "texttemplate": "%{y}",
         "type": "bar",
         "x": [
          "Fakultas Ekonomi & Bisnis"
         ],
         "xaxis": "x",
         "y": {
          "bdata": "ZmZmZmYmJ0A=",
          "dtype": "f8"
         },
         "yaxis": "y"
        },
        {
         "hovertemplate": "Fakultas=%{x}<br>Hafalan=%{y}<extra></extra>",
         "legendgroup": "Fakultas Farmasi",
         "marker": {
          "color": "#00cc96",
          "pattern": {
           "shape": ""
          }
         },
         "name": "Fakultas Farmasi",
         "orientation": "v",
         "showlegend": true,
         "textposition": "auto",
         "texttemplate": "%{y}",
         "type": "bar",
         "x": [
          "Fakultas Farmasi"
         ],
         "xaxis": "x",
         "y": {
          "bdata": "AAAAAAAALkA=",
          "dtype": "f8"
         },
         "yaxis": "y"
        },
        {
         "hovertemplate": "Fakultas=%{x}<br>Hafalan=%{y}<extra></extra>",
         "legendgroup": "Fakultas Geografi",
         "marker": {
          "color": "#ab63fa",
          "pattern": {
           "shape": ""
          }
         },
         "name": "Fakultas Geografi",
         "orientation": "v",
         "showlegend": true,
         "textposition": "auto",
         "texttemplate": "%{y}",
         "type": "bar",
         "x": [
          "Fakultas Geografi"
         ],
         "xaxis": "x",
         "y": {
          "bdata": "AAAAAAAAPkA=",
          "dtype": "f8"
         },
         "yaxis": "y"
        },
        {
         "hovertemplate": "Fakultas=%{x}<br>Hafalan=%{y}<extra></extra>",
         "legendgroup": "Fakultas Hukum & Ilmu Politik",
         "marker": {
          "color": "#FFA15A",
          "pattern": {
           "shape": ""
          }
         },
         "name": "Fakultas Hukum & Ilmu Politik",
         "orientation": "v",
         "showlegend": true,
         "textposition": "auto",
         "texttemplate": "%{y}",
         "type": "bar",
         "x": [
          "Fakultas Hukum & Ilmu Politik"
         ],
         "xaxis": "x",
         "y": {
          "bdata": "VVVVVVVVIEA=",
          "dtype": "f8"
         },
         "yaxis": "y"
        },
        {
         "hovertemplate": "Fakultas=%{x}<br>Hafalan=%{y}<extra></extra>",
         "legendgroup": "Fakultas Ilmu Keperawatan",
         "marker": {
          "color": "#19d3f3",
          "pattern": {
           "shape": ""
          }
         },
         "name": "Fakultas Ilmu Keperawatan",
         "orientation": "v",
         "showlegend": true,
         "textposition": "auto",
         "texttemplate": "%{y}",
         "type": "bar",
         "x": [
          "Fakultas Ilmu Keperawatan"
         ],
         "xaxis": "x",
         "y": {
          "bdata": "AAAAAACgLEA=",
          "dtype": "f8"
         },
         "yaxis": "y"
        },
        {
         "hovertemplate": "Fakultas=%{x}<br>Hafalan=%{y}<extra></extra>",
         "legendgroup": "Fakultas Kedokteran",
         "marker": {
          "color": "#FF6692",
          "pattern": {
           "shape": ""
          }
         },
         "name": "Fakultas Kedokteran",
         "orientation": "v",
         "showlegend": true,
         "textposition": "auto",
         "texttemplate": "%{y}",
         "type": "bar",
         "x": [
          "Fakultas Kedokteran"
         ],
         "xaxis": "x",
         "y": {
          "bdata": "AAAAAAAANEA=",
          "dtype": "f8"
         },
         "yaxis": "y"
        },
        {
         "hovertemplate": "Fakultas=%{x}<br>Hafalan=%{y}<extra></extra>",
         "legendgroup": "Fakultas Kedokteran Gigi",
         "marker": {
          "color": "#B6E880",
          "pattern": {
           "shape": ""
          }
         },
         "name": "Fakultas Kedokteran Gigi",
         "orientation": "v",
         "showlegend": true,
         "textposition": "auto",
         "texttemplate": "%{y}",
         "type": "bar",
         "x": [
          "Fakultas Kedokteran Gigi"
         ],
         "xaxis": "x",
         "y": {
          "bdata": "AAAAAAAAI0A=",
          "dtype": "f8"
         },
         "yaxis": "y"
        },
        {
         "hovertemplate": "Fakultas=%{x}<br>Hafalan=%{y}<extra></extra>",
         "legendgroup": "Fakultas Keguruan & Ilmu Pendidikan",
         "marker": {
          "color": "#FF97FF",
          "pattern": {
           "shape": ""
          }
         },
         "name": "Fakultas Keguruan & Ilmu Pendidikan",
         "orientation": "v",
         "showlegend": true,
         "textposition": "auto",
         "texttemplate": "%{y}",
         "type": "bar",
         "x": [
          "Fakultas Keguruan & Ilmu Pendidikan"
         ],
         "xaxis": "x",
         "y": {
          "bdata": "X/EVX/EVKUA=",
          "dtype": "f8"
         },
         "yaxis": "y"
        },
        {
         "hovertemplate": "Fakultas=%{x}<br>Hafalan=%{y}<extra></extra>",
         "legendgroup": "Fakultas Komunikasi & Informatika",
         "marker": {
          "color": "#FECB52",
          "pattern": {
           "shape": ""
          }
         },
         "name": "Fakultas Komunikasi & Informatika",
         "orientation": "v",
         "showlegend": true,
         "textposition": "auto",
         "texttemplate": "%{y}",
         "type": "bar",
         "x": [
          "Fakultas Komunikasi & Informatika"
         ],
         "xaxis": "x",
         "y": {
          "bdata": "q6qqqqoqMEA=",
          "dtype": "f8"
         },
         "yaxis": "y"
        },
        {
         "hovertemplate": "Fakultas=%{x}<br>Hafalan=%{y}<extra></extra>",
         "legendgroup": "Fakultas Psikologi",
         "marker": {
          "color": "#636efa",
          "pattern": {
           "shape": ""
          }
         },
         "name": "Fakultas Psikologi",
         "orientation": "v",
         "showlegend": true,
         "textposition": "auto",
         "texttemplate": "%{y}",
         "type": "bar",
         "x": [
          "Fakultas Psikologi"
         ],
         "xaxis": "x",
         "y": {
          "bdata": "DMMwDMMwMUA=",
          "dtype": "f8"
         },
         "yaxis": "y"
        },
        {
         "hovertemplate": "Fakultas=%{x}<br>Hafalan=%{y}<extra></extra>",
         "legendgroup": "Fakultas Teknik",
         "marker": {
          "color": "#EF553B",
          "pattern": {
           "shape": ""
          }
         },
         "name": "Fakultas Teknik",
         "orientation": "v",
         "showlegend": true,
         "textposition": "auto",
         "texttemplate": "%{y}",
         "type": "bar",
         "x": [
          "Fakultas Teknik"
         ],
         "xaxis": "x",
         "y": {
          "bdata": "AAAAAAAAK0A=",
          "dtype": "f8"
         },
         "yaxis": "y"
        }
       ],
       "layout": {
        "barmode": "relative",
        "legend": {
         "title": {
          "text": "Fakultas"
         },
         "tracegroupgap": 0
        },
        "template": {
         "data": {
          "bar": [
           {
            "error_x": {
             "color": "#2a3f5f"
            },
            "error_y": {
             "color": "#2a3f5f"
            },
            "marker": {
             "line": {
              "color": "#E5ECF6",
              "width": 0.5
             },
             "pattern": {
              "fillmode": "overlay",
              "size": 10,
              "solidity": 0.2
             }
            },
            "type": "bar"
           }
          ],
          "barpolar": [
           {
            "marker": {
             "line": {
              "color": "#E5ECF6",
              "width": 0.5
             },
             "pattern": {
              "fillmode": "overlay",
              "size": 10,
              "solidity": 0.2
             }
            },
            "type": "barpolar"
           }
          ],
          "carpet": [
           {
            "aaxis": {
             "endlinecolor": "#2a3f5f",
             "gridcolor": "white",
             "linecolor": "white",
             "minorgridcolor": "white",
             "startlinecolor": "#2a3f5f"
            },
            "baxis": {
             "endlinecolor": "#2a3f5f",
             "gridcolor": "white",
             "linecolor": "white",
             "minorgridcolor": "white",
             "startlinecolor": "#2a3f5f"
            },
            "type": "carpet"
           }
          ],
          "choropleth": [
           {
            "colorbar": {
             "outlinewidth": 0,
             "ticks": ""
            },
            "type": "choropleth"
           }
          ],
          "contour": [
           {
            "colorbar": {
             "outlinewidth": 0,
             "ticks": ""
            },
            "colorscale": [
             [
              0,
              "#0d0887"
             ],
             [
              0.1111111111111111,
              "#46039f"
             ],
             [
              0.2222222222222222,
              "#7201a8"
             ],
             [
              0.3333333333333333,
              "#9c179e"
             ],
             [
              0.4444444444444444,
              "#bd3786"
             ],
             [
              0.5555555555555556,
              "#d8576b"
             ],
             [
              0.6666666666666666,
              "#ed7953"
             ],
             [
              0.7777777777777778,
              "#fb9f3a"
             ],
             [
              0.8888888888888888,
              "#fdca26"
             ],
             [
              1,
              "#f0f921"
             ]
            ],
            "type": "contour"
           }
          ],
          "contourcarpet": [
           {
            "colorbar": {
             "outlinewidth": 0,
             "ticks": ""
            },
            "type": "contourcarpet"
           }
          ],
          "heatmap": [
           {
            "colorbar": {
             "outlinewidth": 0,
             "ticks": ""
            },
            "colorscale": [
             [
              0,
              "#0d0887"
             ],
             [
              0.1111111111111111,
              "#46039f"
             ],
             [
              0.2222222222222222,
              "#7201a8"
             ],
             [
              0.3333333333333333,
              "#9c179e"
             ],
             [
              0.4444444444444444,
              "#bd3786"
             ],
             [
              0.5555555555555556,
              "#d8576b"
             ],
             [
              0.6666666666666666,
              "#ed7953"
             ],
             [
              0.7777777777777778,
              "#fb9f3a"
             ],
             [
              0.8888888888888888,
              "#fdca26"
             ],
             [
              1,
              "#f0f921"
             ]
            ],
            "type": "heatmap"
           }
          ],
          "histogram": [
           {
            "marker": {
             "pattern": {
              "fillmode": "overlay",
              "size": 10,
              "solidity": 0.2
             }
            },
            "type": "histogram"
           }
          ],
          "histogram2d": [
           {
            "colorbar": {
             "outlinewidth": 0,
             "ticks": ""
            },
            "colorscale": [
             [
              0,
              "#0d0887"
             ],
             [
              0.1111111111111111,
              "#46039f"
             ],
             [
              0.2222222222222222,
              "#7201a8"
             ],
             [
              0.3333333333333333,
              "#9c179e"
             ],
             [
              0.4444444444444444,
              "#bd3786"
             ],
             [
              0.5555555555555556,
              "#d8576b"
             ],
             [
              0.6666666666666666,
              "#ed7953"
             ],
             [
              0.7777777777777778,
              "#fb9f3a"
             ],
             [
              0.8888888888888888,
              "#fdca26"
             ],
             [
              1,
              "#f0f921"
             ]
            ],
            "type": "histogram2d"
           }
          ],
          "histogram2dcontour": [
           {
            "colorbar": {
             "outlinewidth": 0,
             "ticks": ""
            },
            "colorscale": [
             [
              0,
              "#0d0887"
             ],
             [
              0.1111111111111111,
              "#46039f"
             ],
             [
              0.2222222222222222,
              "#7201a8"
             ],
             [
              0.3333333333333333,
              "#9c179e"
             ],
             [
              0.4444444444444444,
              "#bd3786"
             ],
             [
              0.5555555555555556,
              "#d8576b"
             ],
             [
              0.6666666666666666,
              "#ed7953"
             ],
             [
              0.7777777777777778,
              "#fb9f3a"
             ],
             [
              0.8888888888888888,
              "#fdca26"
             ],
             [
              1,
              "#f0f921"
             ]
            ],
            "type": "histogram2dcontour"
           }
          ],
          "mesh3d": [
           {
            "colorbar": {
             "outlinewidth": 0,
             "ticks": ""
            },
            "type": "mesh3d"
           }
          ],
          "parcoords": [
           {
            "line": {
             "colorbar": {
              "outlinewidth": 0,
              "ticks": ""
             }
            },
            "type": "parcoords"
           }
          ],
          "pie": [
           {
            "automargin": true,
            "type": "pie"
           }
          ],
          "scatter": [
           {
            "fillpattern": {
             "fillmode": "overlay",
             "size": 10,
             "solidity": 0.2
            },
            "type": "scatter"
           }
          ],
          "scatter3d": [
           {
            "line": {
             "colorbar": {
              "outlinewidth": 0,
              "ticks": ""
             }
            },
            "marker": {
             "colorbar": {
              "outlinewidth": 0,
              "ticks": ""
             }
            },
            "type": "scatter3d"
           }
          ],
          "scattercarpet": [
           {
            "marker": {
             "colorbar": {
              "outlinewidth": 0,
              "ticks": ""
             }
            },
            "type": "scattercarpet"
           }
          ],
          "scattergeo": [
           {
            "marker": {
             "colorbar": {
              "outlinewidth": 0,
              "ticks": ""
             }
            },
            "type": "scattergeo"
           }
          ],
          "scattergl": [
           {
            "marker": {
             "colorbar": {
              "outlinewidth": 0,
              "ticks": ""
             }
            },
            "type": "scattergl"
           }
          ],
          "scattermap": [
           {
            "marker": {
             "colorbar": {
              "outlinewidth": 0,
              "ticks": ""
             }
            },
            "type": "scattermap"
           }
          ],
          "scattermapbox": [
           {
            "marker": {
             "colorbar": {
              "outlinewidth": 0,
              "ticks": ""
             }
            },
            "type": "scattermapbox"
           }
          ],
          "scatterpolar": [
           {
            "marker": {
             "colorbar": {
              "outlinewidth": 0,
              "ticks": ""
             }
            },
            "type": "scatterpolar"
           }
          ],
          "scatterpolargl": [
           {
            "marker": {
             "colorbar": {
              "outlinewidth": 0,
              "ticks": ""
             }
            },
            "type": "scatterpolargl"
           }
          ],
          "scatterternary": [
           {
            "marker": {
             "colorbar": {
              "outlinewidth": 0,
              "ticks": ""
             }
            },
            "type": "scatterternary"
           }
          ],
          "surface": [
           {
            "colorbar": {
             "outlinewidth": 0,
             "ticks": ""
            },
            "colorscale": [
             [
              0,
              "#0d0887"
             ],
             [
              0.1111111111111111,
              "#46039f"
             ],
             [
              0.2222222222222222,
              "#7201a8"
             ],
             [
              0.3333333333333333,
              "#9c179e"
             ],
             [
              0.4444444444444444,
              "#bd3786"
             ],
             [
              0.5555555555555556,
              "#d8576b"
             ],
             [
              0.6666666666666666,
              "#ed7953"
             ],
             [
              0.7777777777777778,
              "#fb9f3a"
             ],
             [
              0.8888888888888888,
              "#fdca26"
             ],
             [
              1,
              "#f0f921"
             ]
            ],
            "type": "surface"
           }
          ],
          "table": [
           {
            "cells": {
             "fill": {
              "color": "#EBF0F8"
             },
             "line": {
              "color": "white"
             }
            },
            "header": {
             "fill": {
              "color": "#C8D4E3"
             },
             "line": {
              "color": "white"
             }
            },
            "type": "table"
           }
          ]
         },
         "layout": {
          "annotationdefaults": {
           "arrowcolor": "#2a3f5f",
           "arrowhead": 0,
           "arrowwidth": 1
          },
          "autotypenumbers": "strict",
          "coloraxis": {
           "colorbar": {
            "outlinewidth": 0,
            "ticks": ""
           }
          },
          "colorscale": {
           "diverging": [
            [
             0,
             "#8e0152"
            ],
            [
             0.1,
             "#c51b7d"
            ],
            [
             0.2,
             "#de77ae"
            ],
            [
             0.3,
             "#f1b6da"
            ],
            [
             0.4,
             "#fde0ef"
            ],
            [
             0.5,
             "#f7f7f7"
            ],
            [
             0.6,
             "#e6f5d0"
            ],
            [
             0.7,
             "#b8e186"
            ],
            [
             0.8,
             "#7fbc41"
            ],
            [
             0.9,
             "#4d9221"
            ],
            [
             1,
             "#276419"
            ]
           ],
           "sequential": [
            [
             0,
             "#0d0887"
            ],
            [
             0.1111111111111111,
             "#46039f"
            ],
            [
             0.2222222222222222,
             "#7201a8"
            ],
            [
             0.3333333333333333,
             "#9c179e"
            ],
            [
             0.4444444444444444,
             "#bd3786"
            ],
            [
             0.5555555555555556,
             "#d8576b"
            ],
            [
             0.6666666666666666,
             "#ed7953"
            ],
            [
             0.7777777777777778,
             "#fb9f3a"
            ],
            [
             0.8888888888888888,
             "#fdca26"
            ],
            [
             1,
             "#f0f921"
            ]
           ],
           "sequentialminus": [
            [
             0,
             "#0d0887"
            ],
            [
             0.1111111111111111,
             "#46039f"
            ],
            [
             0.2222222222222222,
             "#7201a8"
            ],
            [
             0.3333333333333333,
             "#9c179e"
            ],
            [
             0.4444444444444444,
             "#bd3786"
            ],
            [
             0.5555555555555556,
             "#d8576b"
            ],
            [
             0.6666666666666666,
             "#ed7953"
            ],
            [
             0.7777777777777778,
             "#fb9f3a"
            ],
            [
             0.8888888888888888,
             "#fdca26"
            ],
            [
             1,
             "#f0f921"
            ]
           ]
          },
          "colorway": [
           "#636efa",
           "#EF553B",
           "#00cc96",
           "#ab63fa",
           "#FFA15A",
           "#19d3f3",
           "#FF6692",
           "#B6E880",
           "#FF97FF",
           "#FECB52"
          ],
          "font": {
           "color": "#2a3f5f"
          },
          "geo": {
           "bgcolor": "white",
           "lakecolor": "white",
           "landcolor": "#E5ECF6",
           "showlakes": true,
           "showland": true,
           "subunitcolor": "white"
          },
          "hoverlabel": {
           "align": "left"
          },
          "hovermode": "closest",
          "mapbox": {
           "style": "light"
          },
          "paper_bgcolor": "white",
          "plot_bgcolor": "#E5ECF6",
          "polar": {
           "angularaxis": {
            "gridcolor": "white",
            "linecolor": "white",
            "ticks": ""
           },
           "bgcolor": "#E5ECF6",
           "radialaxis": {
            "gridcolor": "white",
            "linecolor": "white",
            "ticks": ""
           }
          },
          "scene": {
           "xaxis": {
            "backgroundcolor": "#E5ECF6",
            "gridcolor": "white",
            "gridwidth": 2,
            "linecolor": "white",
            "showbackground": true,
            "ticks": "",
            "zerolinecolor": "white"
           },
           "yaxis": {
            "backgroundcolor": "#E5ECF6",
            "gridcolor": "white",
            "gridwidth": 2,
            "linecolor": "white",
            "showbackground": true,
            "ticks": "",
            "zerolinecolor": "white"
           },
           "zaxis": {
            "backgroundcolor": "#E5ECF6",
            "gridcolor": "white",
            "gridwidth": 2,
            "linecolor": "white",
            "showbackground": true,
            "ticks": "",
            "zerolinecolor": "white"
           }
          },
          "shapedefaults": {
           "line": {
            "color": "#2a3f5f"
           }
          },
          "ternary": {
           "aaxis": {
            "gridcolor": "white",
            "linecolor": "white",
            "ticks": ""
           },
           "baxis": {
            "gridcolor": "white",
            "linecolor": "white",
            "ticks": ""
           },
           "bgcolor": "#E5ECF6",
           "caxis": {
            "gridcolor": "white",
            "linecolor": "white",
            "ticks": ""
           }
          },
          "title": {
           "x": 0.05
          },
          "xaxis": {
           "automargin": true,
           "gridcolor": "white",
           "linecolor": "white",
           "ticks": "",
           "title": {
            "standoff": 15
           },
           "zerolinecolor": "white",
           "zerolinewidth": 2
          },
          "yaxis": {
           "automargin": true,
           "gridcolor": "white",
           "linecolor": "white",
           "ticks": "",
           "title": {
            "standoff": 15
           },
           "zerolinecolor": "white",
           "zerolinewidth": 2
          }
         }
        },
        "title": {
         "text": "Rata-rata Jumlah Juz yang Dihafal per Fakultas"
        },
        "xaxis": {
         "anchor": "y",
         "categoryarray": [
          "Fakultas Agama Islam",
          "Fakultas Ekonomi & Bisnis",
          "Fakultas Farmasi",
          "Fakultas Geografi",
          "Fakultas Hukum & Ilmu Politik",
          "Fakultas Ilmu Keperawatan",
          "Fakultas Kedokteran",
          "Fakultas Kedokteran Gigi",
          "Fakultas Keguruan & Ilmu Pendidikan",
          "Fakultas Komunikasi & Informatika",
          "Fakultas Psikologi",
          "Fakultas Teknik"
         ],
         "categoryorder": "array",
         "domain": [
          0,
          1
         ],
         "title": {
          "text": ""
         }
        },
        "yaxis": {
         "anchor": "x",
         "domain": [
          0,
          1
         ],
         "title": {
          "text": "Rata-rata Juz"
         }
        }
       }
      }
     },
     "metadata": {},
     "output_type": "display_data"
    }
   ],
   "source": [
    "df_avg = df.groupby('Fakultas', as_index=False)['Hafalan'].mean()\n",
    "\n",
    "fig = px.bar(df_avg, x='Fakultas', y='Hafalan',\n",
    "             title='Rata-rata Jumlah Juz yang Dihafal per Fakultas',\n",
    "             text_auto=True, color='Fakultas')\n",
    "fig.update_layout(xaxis_title='', yaxis_title='Rata-rata Juz')\n",
    "fig.show()\n"
   ]
  },
  {
   "cell_type": "code",
   "execution_count": 17,
   "id": "13873e2f",
   "metadata": {},
   "outputs": [],
   "source": [
    "df.to_csv(\"../dataset/Kategori_Hafalan_2025_Cleaned.csv\", index=False)"
   ]
  },
  {
   "cell_type": "code",
   "execution_count": 18,
   "id": "119b8714",
   "metadata": {},
   "outputs": [],
   "source": [
    "df.to_parquet(\"../dataset/Kategori_Hafalan_2025.parquet\", index=False)"
   ]
  }
 ],
 "metadata": {
  "kernelspec": {
   "display_name": ".venv",
   "language": "python",
   "name": "python3"
  },
  "language_info": {
   "codemirror_mode": {
    "name": "ipython",
    "version": 3
   },
   "file_extension": ".py",
   "mimetype": "text/x-python",
   "name": "python",
   "nbconvert_exporter": "python",
   "pygments_lexer": "ipython3",
   "version": "3.10.11"
  }
 },
 "nbformat": 4,
 "nbformat_minor": 5
}
