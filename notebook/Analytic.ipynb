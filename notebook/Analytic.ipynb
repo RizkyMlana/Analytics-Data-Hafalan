{
 "cells": [
  {
   "cell_type": "markdown",
   "id": "3cc6ff6e",
   "metadata": {},
   "source": [
    "# Analytic Hafalan Tahun 2025"
   ]
  },
  {
   "cell_type": "markdown",
   "id": "bf97d232",
   "metadata": {},
   "source": [
    "## 1. Business Understanding"
   ]
  },
  {
   "cell_type": "markdown",
   "id": "fb2be32a",
   "metadata": {},
   "source": [
    "## 2. Data Understanding"
   ]
  },
  {
   "cell_type": "markdown",
   "id": "4b0a52d8",
   "metadata": {},
   "source": [
    "## 3. Data Preparation"
   ]
  },
  {
   "cell_type": "markdown",
   "id": "12600640",
   "metadata": {},
   "source": [
    "## 4. Exploratory Data Analysis / Visualisasi"
   ]
  }
 ],
 "metadata": {
  "language_info": {
   "name": "python"
  }
 },
 "nbformat": 4,
 "nbformat_minor": 5
}
